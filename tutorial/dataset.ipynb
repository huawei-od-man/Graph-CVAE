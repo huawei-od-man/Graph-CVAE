{
 "cells": [
  {
   "cell_type": "code",
   "execution_count": 1,
   "metadata": {},
   "outputs": [
    {
     "name": "stdout",
     "output_type": "stream",
     "text": [
      "/home/mscs/congfeng4/Graph-CVAE\n"
     ]
    },
    {
     "name": "stderr",
     "output_type": "stream",
     "text": [
      "/public/congfeng4/miniconda3/envs/py39/lib/python3.9/site-packages/IPython/core/magics/osm.py:417: UserWarning: using dhist requires you to install the `pickleshare` library.\n",
      "  self.shell.db['dhist'] = compress_dhist(dhist)[-100:]\n"
     ]
    }
   ],
   "source": [
    "cd .."
   ]
  },
  {
   "cell_type": "code",
   "execution_count": null,
   "metadata": {},
   "outputs": [
    {
     "name": "stdout",
     "output_type": "stream",
     "text": [
      "Transpile参数组合数：13\n",
      "\n",
      "=== 开始生成数据集 ===\n",
      "基础样本数：100 | 拓扑类型：['linear', 'star', 'grid', 'ring', 'random'] | 总样本数：6500\n",
      "比特数：10 | 门类型：['h', 'x', 'z', 't', 's', 'cx', 'swap'] | 最大电路深度：100\n"
     ]
    },
    {
     "name": "stderr",
     "output_type": "stream",
     "text": [
      "100%|██████████| 100/100 [01:14<00:00,  1.34it/s]\n",
      "[Parallel(n_jobs=-1)]: Using backend LokyBackend with 6 concurrent workers.\n",
      "/public/congfeng4/miniconda3/envs/py39/lib/python3.9/site-packages/qiskit/circuit/quantumcircuit.py:4625: UserWarning: Trying to add QuantumRegister to a QuantumCircuit having a layout\n",
      "  circ.add_register(qreg)\n",
      "/public/congfeng4/miniconda3/envs/py39/lib/python3.9/site-packages/qiskit/circuit/quantumcircuit.py:4625: UserWarning: Trying to add QuantumRegister to a QuantumCircuit having a layout\n",
      "  circ.add_register(qreg)\n",
      "/public/congfeng4/miniconda3/envs/py39/lib/python3.9/site-packages/qiskit/circuit/quantumcircuit.py:4625: UserWarning: Trying to add QuantumRegister to a QuantumCircuit having a layout\n",
      "  circ.add_register(qreg)\n",
      "/public/congfeng4/miniconda3/envs/py39/lib/python3.9/site-packages/qiskit/circuit/quantumcircuit.py:4625: UserWarning: Trying to add QuantumRegister to a QuantumCircuit having a layout\n",
      "  circ.add_register(qreg)\n",
      "/public/congfeng4/miniconda3/envs/py39/lib/python3.9/site-packages/qiskit/circuit/quantumcircuit.py:4625: UserWarning: Trying to add QuantumRegister to a QuantumCircuit having a layout\n",
      "  circ.add_register(qreg)\n",
      "/public/congfeng4/miniconda3/envs/py39/lib/python3.9/site-packages/qiskit/circuit/quantumcircuit.py:4625: UserWarning: Trying to add QuantumRegister to a QuantumCircuit having a layout\n",
      "  circ.add_register(qreg)\n",
      "[Parallel(n_jobs=-1)]: Done   1 tasks      | elapsed:    2.4s\n",
      "[Parallel(n_jobs=-1)]: Done   6 tasks      | elapsed:    2.4s\n",
      "[Parallel(n_jobs=-1)]: Done  13 tasks      | elapsed:    2.6s\n",
      "[Parallel(n_jobs=-1)]: Done  20 tasks      | elapsed:    2.7s\n",
      "[Parallel(n_jobs=-1)]: Done  29 tasks      | elapsed:    2.9s\n",
      "[Parallel(n_jobs=-1)]: Batch computation too fast (0.19411757181246297s.) Setting batch_size=2.\n",
      "[Parallel(n_jobs=-1)]: Done  38 tasks      | elapsed:    3.0s\n",
      "[Parallel(n_jobs=-1)]: Done  50 tasks      | elapsed:    3.2s\n",
      "[Parallel(n_jobs=-1)]: Done  72 tasks      | elapsed:    5.5s\n",
      "[Parallel(n_jobs=-1)]: Batch computation too slow (2.1805437964670906s.) Setting batch_size=1.\n",
      "[Parallel(n_jobs=-1)]: Done  98 tasks      | elapsed:    8.8s\n",
      "[Parallel(n_jobs=-1)]: Done 116 tasks      | elapsed:   10.8s\n",
      "[Parallel(n_jobs=-1)]: Done 131 tasks      | elapsed:   13.2s\n",
      "[Parallel(n_jobs=-1)]: Done 146 tasks      | elapsed:   15.3s\n",
      "[Parallel(n_jobs=-1)]: Done 163 tasks      | elapsed:   17.5s\n",
      "[Parallel(n_jobs=-1)]: Done 180 tasks      | elapsed:   19.7s\n",
      "[Parallel(n_jobs=-1)]: Done 199 tasks      | elapsed:   24.6s\n",
      "[Parallel(n_jobs=-1)]: Done 218 tasks      | elapsed:   32.1s\n",
      "[Parallel(n_jobs=-1)]: Done 239 tasks      | elapsed:   41.0s\n",
      "[Parallel(n_jobs=-1)]: Done 260 tasks      | elapsed:   48.4s\n",
      "[Parallel(n_jobs=-1)]: Done 283 tasks      | elapsed:   50.0s\n",
      "[Parallel(n_jobs=-1)]: Done 306 tasks      | elapsed:   51.3s\n",
      "[Parallel(n_jobs=-1)]: Done 331 tasks      | elapsed:   52.4s\n",
      "[Parallel(n_jobs=-1)]: Done 356 tasks      | elapsed:   52.9s\n",
      "[Parallel(n_jobs=-1)]: Done 383 tasks      | elapsed:   53.4s\n",
      "[Parallel(n_jobs=-1)]: Done 410 tasks      | elapsed:   55.2s\n",
      "[Parallel(n_jobs=-1)]: Done 439 tasks      | elapsed:   57.2s\n",
      "[Parallel(n_jobs=-1)]: Done 468 tasks      | elapsed:  1.1min\n",
      "[Parallel(n_jobs=-1)]: Done 499 tasks      | elapsed:  1.3min\n",
      "[Parallel(n_jobs=-1)]: Done 530 tasks      | elapsed:  1.6min\n",
      "[Parallel(n_jobs=-1)]: Done 563 tasks      | elapsed:  1.8min\n",
      "[Parallel(n_jobs=-1)]: Done 596 tasks      | elapsed:  1.9min\n",
      "[Parallel(n_jobs=-1)]: Done 631 tasks      | elapsed:  2.0min\n",
      "[Parallel(n_jobs=-1)]: Done 666 tasks      | elapsed:  2.2min\n",
      "[Parallel(n_jobs=-1)]: Done 703 tasks      | elapsed:  2.5min\n",
      "[Parallel(n_jobs=-1)]: Done 740 tasks      | elapsed:  2.6min\n",
      "[Parallel(n_jobs=-1)]: Done 779 tasks      | elapsed:  2.7min\n",
      "[Parallel(n_jobs=-1)]: Done 818 tasks      | elapsed:  2.8min\n",
      "[Parallel(n_jobs=-1)]: Done 859 tasks      | elapsed:  2.9min\n",
      "[Parallel(n_jobs=-1)]: Done 900 tasks      | elapsed:  3.0min\n",
      "[Parallel(n_jobs=-1)]: Done 943 tasks      | elapsed:  3.1min\n",
      "[Parallel(n_jobs=-1)]: Done 986 tasks      | elapsed:  3.2min\n",
      "[Parallel(n_jobs=-1)]: Done 1031 tasks      | elapsed:  3.3min\n",
      "[Parallel(n_jobs=-1)]: Done 1076 tasks      | elapsed:  3.4min\n",
      "[Parallel(n_jobs=-1)]: Done 1123 tasks      | elapsed:  3.5min\n",
      "[Parallel(n_jobs=-1)]: Done 1170 tasks      | elapsed:  3.6min\n",
      "[Parallel(n_jobs=-1)]: Done 1219 tasks      | elapsed:  3.8min\n",
      "[Parallel(n_jobs=-1)]: Done 1268 tasks      | elapsed:  3.9min\n",
      "[Parallel(n_jobs=-1)]: Done 1319 tasks      | elapsed:  4.1min\n",
      "[Parallel(n_jobs=-1)]: Done 1370 tasks      | elapsed:  4.4min\n",
      "[Parallel(n_jobs=-1)]: Done 1423 tasks      | elapsed:  4.7min\n",
      "[Parallel(n_jobs=-1)]: Done 1476 tasks      | elapsed:  5.1min\n",
      "[Parallel(n_jobs=-1)]: Done 1531 tasks      | elapsed:  5.2min\n",
      "[Parallel(n_jobs=-1)]: Done 1586 tasks      | elapsed:  5.2min\n",
      "[Parallel(n_jobs=-1)]: Done 1643 tasks      | elapsed:  5.3min\n",
      "[Parallel(n_jobs=-1)]: Done 1700 tasks      | elapsed:  5.4min\n",
      "[Parallel(n_jobs=-1)]: Done 1759 tasks      | elapsed:  5.6min\n",
      "[Parallel(n_jobs=-1)]: Done 1818 tasks      | elapsed:  5.7min\n",
      "[Parallel(n_jobs=-1)]: Done 1879 tasks      | elapsed:  5.9min\n"
     ]
    }
   ],
   "source": [
    "from dataset import QuantumCircuitDataset\n",
    "import tempfile\n",
    "\n",
    "dataset = QuantumCircuitDataset(\n",
    "    tempfile.mkdtemp('quantum'),\n",
    "    base_num_samples=100,\n",
    "    num_qubits=10,\n",
    "    max_depth=100,\n",
    "    regenerate=True,\n",
    "    n_jobs=-1,\n",
    ")"
   ]
  },
  {
   "cell_type": "code",
   "execution_count": null,
   "metadata": {},
   "outputs": [
    {
     "data": {
      "text/plain": [
       "260"
      ]
     },
     "execution_count": 3,
     "metadata": {},
     "output_type": "execute_result"
    }
   ],
   "source": [
    "len(dataset)"
   ]
  },
  {
   "cell_type": "code",
   "execution_count": null,
   "metadata": {},
   "outputs": [
    {
     "data": {
      "text/plain": [
       "{'g': Data(edge_index=[2, 147], x=[98, 17]),\n",
       " 't': Data(edge_index=[2, 18], x=[10, 10]),\n",
       " 'g_star': Data(edge_index=[2, 191], x=[131, 17]),\n",
       " 'quantum_origin': {'statevector': tensor([0.+0.j, 0.+0.j, 0.+0.j,  ..., 0.+0.j, 0.+0.j, 0.+0.j]),\n",
       "  'unitary': tensor([[0.+0.j, 0.+0.j, 0.+0.j,  ..., 0.+0.j, 0.+0.j, 0.+0.j],\n",
       "          [0.+0.j, 0.+0.j, 0.+0.j,  ..., 0.+0.j, 0.+0.j, 0.+0.j],\n",
       "          [0.+0.j, 0.+0.j, 0.+0.j,  ..., 0.+0.j, 0.+0.j, 0.+0.j],\n",
       "          ...,\n",
       "          [0.+0.j, 0.+0.j, 0.+0.j,  ..., 0.+0.j, 0.+0.j, 0.+0.j],\n",
       "          [0.+0.j, 0.+0.j, 0.+0.j,  ..., 0.+0.j, 0.+0.j, 0.+0.j],\n",
       "          [0.+0.j, 0.+0.j, 0.+0.j,  ..., 0.+0.j, 0.+0.j, 0.+0.j]])},\n",
       " 'quantum_optimized': {'statevector': tensor([0.+0.j, 0.+0.j, 0.+0.j,  ..., 0.+0.j, 0.+0.j, 0.+0.j]),\n",
       "  'unitary': tensor([[0.+0.j, 0.+0.j, 0.+0.j,  ..., 0.+0.j, 0.+0.j, 0.+0.j],\n",
       "          [0.+0.j, 0.+0.j, 0.+0.j,  ..., 0.+0.j, 0.+0.j, 0.+0.j],\n",
       "          [0.+0.j, 0.+0.j, 0.+0.j,  ..., 0.+0.j, 0.+0.j, 0.+0.j],\n",
       "          ...,\n",
       "          [0.+0.j, 0.+0.j, 0.+0.j,  ..., 0.+0.j, 0.+0.j, 0.+0.j],\n",
       "          [0.+0.j, 0.+0.j, 0.+0.j,  ..., 0.+0.j, 0.+0.j, 0.+0.j],\n",
       "          [0.+0.j, 0.+0.j, 0.+0.j,  ..., 0.+0.j, 0.+0.j, 0.+0.j]])},\n",
       " 'optimization_metrics': {'depth_ratio': 2.0938,\n",
       "  'total_gate_ratio': 1.3367,\n",
       "  'two_qubit_ratio': 1.1774},\n",
       " 'circuit_origin_info': {'num_qubits': 10,\n",
       "  'total_gates': 98,\n",
       "  'depth': 32,\n",
       "  'two_qubit_gates': 62},\n",
       " 'circuit_optimized_info': {'num_qubits': 10,\n",
       "  'total_gates': 131,\n",
       "  'depth': 67,\n",
       "  'two_qubit_gates': 73},\n",
       " 'meta': {'base_idx': 0,\n",
       "  'topo_type': 0,\n",
       "  'layout_method': 0,\n",
       "  'routing_method': 1,\n",
       "  'optimization_level': 2}}"
      ]
     },
     "execution_count": 4,
     "metadata": {},
     "output_type": "execute_result"
    }
   ],
   "source": [
    "dataset[3]"
   ]
  },
  {
   "cell_type": "markdown",
   "metadata": {},
   "source": [
    "## Visualize g, g* (optimzed g)."
   ]
  },
  {
   "cell_type": "code",
   "execution_count": null,
   "metadata": {},
   "outputs": [],
   "source": [
    "all_samples = [dataset[i] for i in range(len(dataset))]\n",
    "all_samples.sort(key=lambda x: x['optimization_metrics']['depth_ratio'])\n"
   ]
  },
  {
   "cell_type": "code",
   "execution_count": null,
   "metadata": {},
   "outputs": [],
   "source": [
    "\n",
    "sample = all_samples[9]\n",
    "g, g_star, t = sample['g'], sample['g_star'], sample['t']"
   ]
  },
  {
   "cell_type": "code",
   "execution_count": null,
   "metadata": {},
   "outputs": [
    {
     "data": {
      "text/plain": [
       "tensor([[ 2,  3,  5,  6,  7,  8,  9, 10, 11, 12, 13, 14,  0, 16, 16, 19, 17, 21,\n",
       "         22, 23, 24, 24, 26, 27, 28, 21, 30, 31],\n",
       "        [ 3,  4,  6,  7,  8,  9, 10, 11, 12, 13, 14, 15, 16, 17, 18, 20, 21, 22,\n",
       "         23, 24, 25, 26, 27, 28, 29, 30, 31, 32]])"
      ]
     },
     "execution_count": 7,
     "metadata": {},
     "output_type": "execute_result"
    }
   ],
   "source": [
    "g_star.edge_index"
   ]
  },
  {
   "cell_type": "code",
   "execution_count": null,
   "metadata": {},
   "outputs": [],
   "source": [
    "from converter import data_to_quantum_circuit\n",
    "\n",
    "g_qc = data_to_quantum_circuit(g, dataset.num_qubits, dataset.basic_gates)\n",
    "g_star_qc = data_to_quantum_circuit(g_star, dataset.num_qubits, dataset.basic_gates)"
   ]
  },
  {
   "cell_type": "code",
   "execution_count": null,
   "metadata": {},
   "outputs": [
    {
     "data": {
      "text/html": [
       "<pre style=\"word-wrap: normal;white-space: pre;background: #fff0;line-height: 1.1;font-family: &quot;Courier New&quot;,Courier,monospace\">          ┌───┐                                                         ┌───┐»\n",
       "q_0: ──X──┤ Z ├────────────X─────────■─────────■───X───────X──────────X─┤ T ├»\n",
       "       │  └───┘            │         │         │   │       │    ┌───┐ │ ├───┤»\n",
       "q_1: ──┼───────────────────┼─────────┼─────────┼───┼───────┼──X─┤ Z ├─┼─┤ T ├»\n",
       "       │       ┌───┐       │         │         │   │       │  │ └───┘ │ └───┘»\n",
       "q_2: ──┼────■──┤ H ├───────┼─────────┼─────────┼───┼───────┼──┼───────┼──────»\n",
       "       │    │  └───┘       │  ┌───┐  │  ┌───┐  │   │       │  │       │      »\n",
       "q_3: ──┼────┼─────────■────┼──┤ S ├──┼──┤ X ├──┼───┼───────┼──┼───────┼──────»\n",
       "       │    │         │    │  └───┘  │  └───┘  │   │ ┌───┐ │  │ ┌───┐ │      »\n",
       "q_4: ──┼────┼─────────┼────X─────────┼─────────┼───X─┤ T ├─┼──┼─┤ S ├─┼──────»\n",
       "       │    │  ┌───┐  │  ┌───┐       │         │     └───┘ │  │ └───┘ │      »\n",
       "q_5: ──┼────┼──┤ S ├──┼──┤ X ├───────┼─────────┼───────────X──┼───■───┼───X──»\n",
       "       │    │  └───┘┌─┴─┐├───┤       │         │              │   │   │   │  »\n",
       "q_6: ──X────┼───────┤ X ├┤ S ├───────┼─────────┼──────────────┼───┼───┼───X──»\n",
       "     ┌───┐  │       ├───┤└───┘       │         │              │   │   │      »\n",
       "q_7: ┤ H ├──┼────X──┤ S ├────────────┼─────────┼──────────────┼───┼───┼──────»\n",
       "     └───┘┌─┴─┐  │  ├───┤          ┌─┴─┐     ┌─┴─┐            │ ┌─┴─┐ │ ┌───┐»\n",
       "q_8: ─────┤ X ├──┼──┤ T ├──────────┤ X ├─────┤ X ├─X──────────X─┤ X ├─┼─┤ Z ├»\n",
       "          └───┘  │  ├───┤          └───┘     └───┘ │ ┌───┐      └───┘ │ └───┘»\n",
       "q_9: ────────────X──┤ H ├──────────────────────────X─┤ H ├────────────X──────»\n",
       "                    └───┘                            └───┘                   »\n",
       "«             \n",
       "«q_0: ─X──────\n",
       "«      │      \n",
       "«q_1: ─┼──────\n",
       "«      │ ┌───┐\n",
       "«q_2: ─X─┤ H ├\n",
       "«        └───┘\n",
       "«q_3: ────────\n",
       "«             \n",
       "«q_4: ────────\n",
       "«             \n",
       "«q_5: ────────\n",
       "«             \n",
       "«q_6: ────────\n",
       "«             \n",
       "«q_7: ────────\n",
       "«             \n",
       "«q_8: ────────\n",
       "«             \n",
       "«q_9: ────────\n",
       "«             </pre>"
      ],
      "text/plain": [
       "          ┌───┐                                                         ┌───┐»\n",
       "q_0: ──X──┤ Z ├────────────X─────────■─────────■───X───────X──────────X─┤ T ├»\n",
       "       │  └───┘            │         │         │   │       │    ┌───┐ │ ├───┤»\n",
       "q_1: ──┼───────────────────┼─────────┼─────────┼───┼───────┼──X─┤ Z ├─┼─┤ T ├»\n",
       "       │       ┌───┐       │         │         │   │       │  │ └───┘ │ └───┘»\n",
       "q_2: ──┼────■──┤ H ├───────┼─────────┼─────────┼───┼───────┼──┼───────┼──────»\n",
       "       │    │  └───┘       │  ┌───┐  │  ┌───┐  │   │       │  │       │      »\n",
       "q_3: ──┼────┼─────────■────┼──┤ S ├──┼──┤ X ├──┼───┼───────┼──┼───────┼──────»\n",
       "       │    │         │    │  └───┘  │  └───┘  │   │ ┌───┐ │  │ ┌───┐ │      »\n",
       "q_4: ──┼────┼─────────┼────X─────────┼─────────┼───X─┤ T ├─┼──┼─┤ S ├─┼──────»\n",
       "       │    │  ┌───┐  │  ┌───┐       │         │     └───┘ │  │ └───┘ │      »\n",
       "q_5: ──┼────┼──┤ S ├──┼──┤ X ├───────┼─────────┼───────────X──┼───■───┼───X──»\n",
       "       │    │  └───┘┌─┴─┐├───┤       │         │              │   │   │   │  »\n",
       "q_6: ──X────┼───────┤ X ├┤ S ├───────┼─────────┼──────────────┼───┼───┼───X──»\n",
       "     ┌───┐  │       ├───┤└───┘       │         │              │   │   │      »\n",
       "q_7: ┤ H ├──┼────X──┤ S ├────────────┼─────────┼──────────────┼───┼───┼──────»\n",
       "     └───┘┌─┴─┐  │  ├───┤          ┌─┴─┐     ┌─┴─┐            │ ┌─┴─┐ │ ┌───┐»\n",
       "q_8: ─────┤ X ├──┼──┤ T ├──────────┤ X ├─────┤ X ├─X──────────X─┤ X ├─┼─┤ Z ├»\n",
       "          └───┘  │  ├───┤          └───┘     └───┘ │ ┌───┐      └───┘ │ └───┘»\n",
       "q_9: ────────────X──┤ H ├──────────────────────────X─┤ H ├────────────X──────»\n",
       "                    └───┘                            └───┘                   »\n",
       "«             \n",
       "«q_0: ─X──────\n",
       "«      │      \n",
       "«q_1: ─┼──────\n",
       "«      │ ┌───┐\n",
       "«q_2: ─X─┤ H ├\n",
       "«        └───┘\n",
       "«q_3: ────────\n",
       "«             \n",
       "«q_4: ────────\n",
       "«             \n",
       "«q_5: ────────\n",
       "«             \n",
       "«q_6: ────────\n",
       "«             \n",
       "«q_7: ────────\n",
       "«             \n",
       "«q_8: ────────\n",
       "«             \n",
       "«q_9: ────────\n",
       "«             "
      ]
     },
     "execution_count": 9,
     "metadata": {},
     "output_type": "execute_result"
    }
   ],
   "source": [
    "g_qc.draw()"
   ]
  },
  {
   "cell_type": "code",
   "execution_count": null,
   "metadata": {},
   "outputs": [
    {
     "data": {
      "text/html": [
       "<pre style=\"word-wrap: normal;white-space: pre;background: #fff0;line-height: 1.1;font-family: &quot;Courier New&quot;,Courier,monospace\">                                   ┌───┐┌───┐┌───┐                    \n",
       "q_0: ───────────────────────────■──┤ Z ├┤ X ├┤ S ├────────────────────\n",
       "     ┌───┐┌───┐                 │  └───┘└───┘└───┘                    \n",
       "q_1: ┤ S ├┤ T ├─────────────────┼─────────────────────────────────────\n",
       "     └───┘└───┘┌───┐            │                                     \n",
       "q_2: ───────■──┤ Z ├────────────┼─────────────────────────────────────\n",
       "     ┌───┐  │  ├───┤┌───┐┌───┐  │  ┌───┐┌───┐┌───┐┌───┐┌───┐┌───┐┌───┐\n",
       "q_3: ┤ S ├──┼──┤ S ├┤ S ├┤ S ├──┼──┤ S ├┤ S ├┤ S ├┤ S ├┤ S ├┤ S ├┤ T ├\n",
       "     └───┘  │  └───┘└───┘└───┘  │  └───┘└───┘└───┘└───┘└───┘└───┘└───┘\n",
       "q_4: ───────┼───────────────────┼─────────X───────────────────────────\n",
       "            │                   │         │                           \n",
       "q_5: ───────┼─────────X─────────┼─────────┼───────────────────────────\n",
       "            │         │         │         │       ┌───┐┌───┐┌───┐┌───┐\n",
       "q_6: ───────┼─────────┼─────────┼─────────┼────■──┤ T ├┤ H ├┤ T ├┤ H ├\n",
       "     ┌───┐  │  ┌───┐  │  ┌───┐  │         │    │  └───┘└───┘└───┘└───┘\n",
       "q_7: ┤ Z ├──┼──┤ X ├──┼──┤ S ├──┼─────────┼────┼──────────────────────\n",
       "     ├───┤  │  └───┘  │  └───┘  │         │    │                      \n",
       "q_8: ┤ S ├──┼─────────┼─────────┼─────────┼────┼──────────────────────\n",
       "     ├───┤┌─┴─┐       │       ┌─┴─┐┌───┐  │  ┌─┴─┐┌───┐               \n",
       "q_9: ┤ Z ├┤ X ├───────X───────┤ X ├┤ S ├──X──┤ X ├┤ H ├───────────────\n",
       "     └───┘└───┘               └───┘└───┘     └───┘└───┘               </pre>"
      ],
      "text/plain": [
       "                                   ┌───┐┌───┐┌───┐                    \n",
       "q_0: ───────────────────────────■──┤ Z ├┤ X ├┤ S ├────────────────────\n",
       "     ┌───┐┌───┐                 │  └───┘└───┘└───┘                    \n",
       "q_1: ┤ S ├┤ T ├─────────────────┼─────────────────────────────────────\n",
       "     └───┘└───┘┌───┐            │                                     \n",
       "q_2: ───────■──┤ Z ├────────────┼─────────────────────────────────────\n",
       "     ┌───┐  │  ├───┤┌───┐┌───┐  │  ┌───┐┌───┐┌───┐┌───┐┌───┐┌───┐┌───┐\n",
       "q_3: ┤ S ├──┼──┤ S ├┤ S ├┤ S ├──┼──┤ S ├┤ S ├┤ S ├┤ S ├┤ S ├┤ S ├┤ T ├\n",
       "     └───┘  │  └───┘└───┘└───┘  │  └───┘└───┘└───┘└───┘└───┘└───┘└───┘\n",
       "q_4: ───────┼───────────────────┼─────────X───────────────────────────\n",
       "            │                   │         │                           \n",
       "q_5: ───────┼─────────X─────────┼─────────┼───────────────────────────\n",
       "            │         │         │         │       ┌───┐┌───┐┌───┐┌───┐\n",
       "q_6: ───────┼─────────┼─────────┼─────────┼────■──┤ T ├┤ H ├┤ T ├┤ H ├\n",
       "     ┌───┐  │  ┌───┐  │  ┌───┐  │         │    │  └───┘└───┘└───┘└───┘\n",
       "q_7: ┤ Z ├──┼──┤ X ├──┼──┤ S ├──┼─────────┼────┼──────────────────────\n",
       "     ├───┤  │  └───┘  │  └───┘  │         │    │                      \n",
       "q_8: ┤ S ├──┼─────────┼─────────┼─────────┼────┼──────────────────────\n",
       "     ├───┤┌─┴─┐       │       ┌─┴─┐┌───┐  │  ┌─┴─┐┌───┐               \n",
       "q_9: ┤ Z ├┤ X ├───────X───────┤ X ├┤ S ├──X──┤ X ├┤ H ├───────────────\n",
       "     └───┘└───┘               └───┘└───┘     └───┘└───┘               "
      ]
     },
     "execution_count": 10,
     "metadata": {},
     "output_type": "execute_result"
    }
   ],
   "source": [
    "g_star_qc.draw()"
   ]
  },
  {
   "cell_type": "code",
   "execution_count": null,
   "metadata": {},
   "outputs": [
    {
     "data": {
      "text/plain": [
       "{'depth_ratio': 1.0, 'total_gate_ratio': 0.9706, 'two_qubit_ratio': 0.3333}"
      ]
     },
     "execution_count": 11,
     "metadata": {},
     "output_type": "execute_result"
    }
   ],
   "source": [
    "sample['optimization_metrics']"
   ]
  },
  {
   "cell_type": "code",
   "execution_count": null,
   "metadata": {},
   "outputs": [
    {
     "data": {
      "text/plain": [
       "{'base_idx': 2,\n",
       " 'topo_type': 1,\n",
       " 'layout_method': 2,\n",
       " 'routing_method': 1,\n",
       " 'optimization_level': 2}"
      ]
     },
     "execution_count": 12,
     "metadata": {},
     "output_type": "execute_result"
    }
   ],
   "source": [
    "sample['meta']"
   ]
  },
  {
   "cell_type": "code",
   "execution_count": null,
   "metadata": {},
   "outputs": [],
   "source": [
    "origin_um = sample['quantum_origin']['unitary'].numpy()\n",
    "optimized_um = sample['quantum_optimized']['unitary'].numpy()"
   ]
  },
  {
   "cell_type": "code",
   "execution_count": null,
   "metadata": {},
   "outputs": [
    {
     "data": {
      "text/plain": [
       "((1024, 1024), (1024, 1024))"
      ]
     },
     "execution_count": 14,
     "metadata": {},
     "output_type": "execute_result"
    }
   ],
   "source": [
    "optimized_um.shape, origin_um.shape"
   ]
  },
  {
   "cell_type": "markdown",
   "metadata": {},
   "source": [
    "## Visualize topo."
   ]
  },
  {
   "cell_type": "code",
   "execution_count": null,
   "metadata": {},
   "outputs": [
    {
     "data": {
      "text/plain": [
       "Data(edge_index=[2, 18], x=[10, 10])"
      ]
     },
     "execution_count": 15,
     "metadata": {},
     "output_type": "execute_result"
    }
   ],
   "source": [
    "topo_data = sample['t']\n",
    "topo_data"
   ]
  },
  {
   "cell_type": "code",
   "execution_count": null,
   "metadata": {},
   "outputs": [
    {
     "data": {
      "text/plain": [
       "(9, 10)"
      ]
     },
     "execution_count": 16,
     "metadata": {},
     "output_type": "execute_result"
    }
   ],
   "source": [
    "from torch_geometric.utils import to_networkx\n",
    "\n",
    "topo_g = to_networkx(topo_data, to_undirected=True)\n",
    "topo_g.number_of_edges(), topo_g.number_of_nodes()"
   ]
  },
  {
   "cell_type": "code",
   "execution_count": null,
   "metadata": {},
   "outputs": [
    {
     "data": {
      "image/png": "[encoded data removed]",
      "text/plain": [
       "<Figure size 640x480 with 1 Axes>"
      ]
     },
     "metadata": {},
     "output_type": "display_data"
    }
   ],
   "source": [
    "import networkx as nx\n",
    "\n",
    "nx.draw(topo_g, node_size=50) # 2x5 grid"
   ]
  },
  {
   "cell_type": "markdown",
   "metadata": {},
   "source": [
    "## Statistic of the dataset."
   ]
  },
  {
   "cell_type": "code",
   "execution_count": null,
   "metadata": {},
   "outputs": [],
   "source": [
    "\n",
    "from dataset_stats import extract_scalars_to_dataframe"
   ]
  },
  {
   "cell_type": "code",
   "execution_count": null,
   "metadata": {},
   "outputs": [],
   "source": [
    "df = extract_scalars_to_dataframe(dataset)"
   ]
  },
  {
   "cell_type": "code",
   "execution_count": null,
   "metadata": {},
   "outputs": [
    {
     "data": {
      "text/html": [
       "<div>\n",
       "<style scoped>\n",
       "    .dataframe tbody tr th:only-of-type {\n",
       "        vertical-align: middle;\n",
       "    }\n",
       "\n",
       "    .dataframe tbody tr th {\n",
       "        vertical-align: top;\n",
       "    }\n",
       "\n",
       "    .dataframe thead th {\n",
       "        text-align: right;\n",
       "    }\n",
       "</style>\n",
       "<table border=\"1\" class=\"dataframe\">\n",
       "  <thead>\n",
       "    <tr style=\"text-align: right;\">\n",
       "      <th></th>\n",
       "      <th>sample_idx</th>\n",
       "      <th>base_idx</th>\n",
       "      <th>topo_type</th>\n",
       "      <th>layout_method</th>\n",
       "      <th>routing_method</th>\n",
       "      <th>optimization_level</th>\n",
       "      <th>origin_num_qubits</th>\n",
       "      <th>origin_total_gates</th>\n",
       "      <th>origin_depth</th>\n",
       "      <th>origin_two_qubit_gates</th>\n",
       "      <th>opt_num_qubits</th>\n",
       "      <th>opt_total_gates</th>\n",
       "      <th>opt_depth</th>\n",
       "      <th>opt_two_qubit_gates</th>\n",
       "      <th>depth_ratio</th>\n",
       "      <th>total_gate_ratio</th>\n",
       "      <th>two_qubit_ratio</th>\n",
       "    </tr>\n",
       "  </thead>\n",
       "  <tbody>\n",
       "    <tr>\n",
       "      <th>0</th>\n",
       "      <td>0</td>\n",
       "      <td>0</td>\n",
       "      <td>linear</td>\n",
       "      <td>trivial</td>\n",
       "      <td>basic</td>\n",
       "      <td>1</td>\n",
       "      <td>10</td>\n",
       "      <td>98</td>\n",
       "      <td>32</td>\n",
       "      <td>62</td>\n",
       "      <td>10</td>\n",
       "      <td>350</td>\n",
       "      <td>261</td>\n",
       "      <td>223</td>\n",
       "      <td>8.1562</td>\n",
       "      <td>3.5714</td>\n",
       "      <td>3.5968</td>\n",
       "    </tr>\n",
       "    <tr>\n",
       "      <th>1</th>\n",
       "      <td>1</td>\n",
       "      <td>0</td>\n",
       "      <td>linear</td>\n",
       "      <td>trivial</td>\n",
       "      <td>basic</td>\n",
       "      <td>2</td>\n",
       "      <td>10</td>\n",
       "      <td>98</td>\n",
       "      <td>32</td>\n",
       "      <td>62</td>\n",
       "      <td>10</td>\n",
       "      <td>152</td>\n",
       "      <td>92</td>\n",
       "      <td>94</td>\n",
       "      <td>2.8750</td>\n",
       "      <td>1.5510</td>\n",
       "      <td>1.5161</td>\n",
       "    </tr>\n",
       "    <tr>\n",
       "      <th>2</th>\n",
       "      <td>2</td>\n",
       "      <td>0</td>\n",
       "      <td>linear</td>\n",
       "      <td>trivial</td>\n",
       "      <td>sabre</td>\n",
       "      <td>1</td>\n",
       "      <td>10</td>\n",
       "      <td>98</td>\n",
       "      <td>32</td>\n",
       "      <td>62</td>\n",
       "      <td>10</td>\n",
       "      <td>303</td>\n",
       "      <td>175</td>\n",
       "      <td>164</td>\n",
       "      <td>5.4688</td>\n",
       "      <td>3.0918</td>\n",
       "      <td>2.6452</td>\n",
       "    </tr>\n",
       "    <tr>\n",
       "      <th>3</th>\n",
       "      <td>3</td>\n",
       "      <td>0</td>\n",
       "      <td>linear</td>\n",
       "      <td>trivial</td>\n",
       "      <td>sabre</td>\n",
       "      <td>2</td>\n",
       "      <td>10</td>\n",
       "      <td>98</td>\n",
       "      <td>32</td>\n",
       "      <td>62</td>\n",
       "      <td>10</td>\n",
       "      <td>131</td>\n",
       "      <td>67</td>\n",
       "      <td>73</td>\n",
       "      <td>2.0938</td>\n",
       "      <td>1.3367</td>\n",
       "      <td>1.1774</td>\n",
       "    </tr>\n",
       "    <tr>\n",
       "      <th>4</th>\n",
       "      <td>4</td>\n",
       "      <td>0</td>\n",
       "      <td>linear</td>\n",
       "      <td>dense</td>\n",
       "      <td>basic</td>\n",
       "      <td>1</td>\n",
       "      <td>10</td>\n",
       "      <td>98</td>\n",
       "      <td>32</td>\n",
       "      <td>62</td>\n",
       "      <td>10</td>\n",
       "      <td>312</td>\n",
       "      <td>213</td>\n",
       "      <td>221</td>\n",
       "      <td>6.6562</td>\n",
       "      <td>3.1837</td>\n",
       "      <td>3.5645</td>\n",
       "    </tr>\n",
       "    <tr>\n",
       "      <th>...</th>\n",
       "      <td>...</td>\n",
       "      <td>...</td>\n",
       "      <td>...</td>\n",
       "      <td>...</td>\n",
       "      <td>...</td>\n",
       "      <td>...</td>\n",
       "      <td>...</td>\n",
       "      <td>...</td>\n",
       "      <td>...</td>\n",
       "      <td>...</td>\n",
       "      <td>...</td>\n",
       "      <td>...</td>\n",
       "      <td>...</td>\n",
       "      <td>...</td>\n",
       "      <td>...</td>\n",
       "      <td>...</td>\n",
       "      <td>...</td>\n",
       "    </tr>\n",
       "    <tr>\n",
       "      <th>255</th>\n",
       "      <td>255</td>\n",
       "      <td>4</td>\n",
       "      <td>ring</td>\n",
       "      <td>sabre</td>\n",
       "      <td>basic</td>\n",
       "      <td>1</td>\n",
       "      <td>10</td>\n",
       "      <td>13</td>\n",
       "      <td>6</td>\n",
       "      <td>9</td>\n",
       "      <td>10</td>\n",
       "      <td>16</td>\n",
       "      <td>8</td>\n",
       "      <td>12</td>\n",
       "      <td>1.3333</td>\n",
       "      <td>1.2308</td>\n",
       "      <td>1.3333</td>\n",
       "    </tr>\n",
       "    <tr>\n",
       "      <th>256</th>\n",
       "      <td>256</td>\n",
       "      <td>4</td>\n",
       "      <td>ring</td>\n",
       "      <td>sabre</td>\n",
       "      <td>basic</td>\n",
       "      <td>2</td>\n",
       "      <td>10</td>\n",
       "      <td>13</td>\n",
       "      <td>6</td>\n",
       "      <td>9</td>\n",
       "      <td>10</td>\n",
       "      <td>10</td>\n",
       "      <td>6</td>\n",
       "      <td>6</td>\n",
       "      <td>1.0000</td>\n",
       "      <td>0.7692</td>\n",
       "      <td>0.6667</td>\n",
       "    </tr>\n",
       "    <tr>\n",
       "      <th>257</th>\n",
       "      <td>257</td>\n",
       "      <td>4</td>\n",
       "      <td>ring</td>\n",
       "      <td>sabre</td>\n",
       "      <td>sabre</td>\n",
       "      <td>0</td>\n",
       "      <td>10</td>\n",
       "      <td>13</td>\n",
       "      <td>6</td>\n",
       "      <td>9</td>\n",
       "      <td>10</td>\n",
       "      <td>16</td>\n",
       "      <td>8</td>\n",
       "      <td>12</td>\n",
       "      <td>1.3333</td>\n",
       "      <td>1.2308</td>\n",
       "      <td>1.3333</td>\n",
       "    </tr>\n",
       "    <tr>\n",
       "      <th>258</th>\n",
       "      <td>258</td>\n",
       "      <td>4</td>\n",
       "      <td>ring</td>\n",
       "      <td>sabre</td>\n",
       "      <td>sabre</td>\n",
       "      <td>1</td>\n",
       "      <td>10</td>\n",
       "      <td>13</td>\n",
       "      <td>6</td>\n",
       "      <td>9</td>\n",
       "      <td>10</td>\n",
       "      <td>16</td>\n",
       "      <td>9</td>\n",
       "      <td>12</td>\n",
       "      <td>1.5000</td>\n",
       "      <td>1.2308</td>\n",
       "      <td>1.3333</td>\n",
       "    </tr>\n",
       "    <tr>\n",
       "      <th>259</th>\n",
       "      <td>259</td>\n",
       "      <td>4</td>\n",
       "      <td>ring</td>\n",
       "      <td>sabre</td>\n",
       "      <td>sabre</td>\n",
       "      <td>2</td>\n",
       "      <td>10</td>\n",
       "      <td>13</td>\n",
       "      <td>6</td>\n",
       "      <td>9</td>\n",
       "      <td>10</td>\n",
       "      <td>10</td>\n",
       "      <td>6</td>\n",
       "      <td>6</td>\n",
       "      <td>1.0000</td>\n",
       "      <td>0.7692</td>\n",
       "      <td>0.6667</td>\n",
       "    </tr>\n",
       "  </tbody>\n",
       "</table>\n",
       "<p>260 rows × 17 columns</p>\n",
       "</div>"
      ],
      "text/plain": [
       "     sample_idx  base_idx topo_type layout_method routing_method  \\\n",
       "0             0         0    linear       trivial          basic   \n",
       "1             1         0    linear       trivial          basic   \n",
       "2             2         0    linear       trivial          sabre   \n",
       "3             3         0    linear       trivial          sabre   \n",
       "4             4         0    linear         dense          basic   \n",
       "..          ...       ...       ...           ...            ...   \n",
       "255         255         4      ring         sabre          basic   \n",
       "256         256         4      ring         sabre          basic   \n",
       "257         257         4      ring         sabre          sabre   \n",
       "258         258         4      ring         sabre          sabre   \n",
       "259         259         4      ring         sabre          sabre   \n",
       "\n",
       "     optimization_level  origin_num_qubits  origin_total_gates  origin_depth  \\\n",
       "0                     1                 10                  98            32   \n",
       "1                     2                 10                  98            32   \n",
       "2                     1                 10                  98            32   \n",
       "3                     2                 10                  98            32   \n",
       "4                     1                 10                  98            32   \n",
       "..                  ...                ...                 ...           ...   \n",
       "255                   1                 10                  13             6   \n",
       "256                   2                 10                  13             6   \n",
       "257                   0                 10                  13             6   \n",
       "258                   1                 10                  13             6   \n",
       "259                   2                 10                  13             6   \n",
       "\n",
       "     origin_two_qubit_gates  opt_num_qubits  opt_total_gates  opt_depth  \\\n",
       "0                        62              10              350        261   \n",
       "1                        62              10              152         92   \n",
       "2                        62              10              303        175   \n",
       "3                        62              10              131         67   \n",
       "4                        62              10              312        213   \n",
       "..                      ...             ...              ...        ...   \n",
       "255                       9              10               16          8   \n",
       "256                       9              10               10          6   \n",
       "257                       9              10               16          8   \n",
       "258                       9              10               16          9   \n",
       "259                       9              10               10          6   \n",
       "\n",
       "     opt_two_qubit_gates  depth_ratio  total_gate_ratio  two_qubit_ratio  \n",
       "0                    223       8.1562            3.5714           3.5968  \n",
       "1                     94       2.8750            1.5510           1.5161  \n",
       "2                    164       5.4688            3.0918           2.6452  \n",
       "3                     73       2.0938            1.3367           1.1774  \n",
       "4                    221       6.6562            3.1837           3.5645  \n",
       "..                   ...          ...               ...              ...  \n",
       "255                   12       1.3333            1.2308           1.3333  \n",
       "256                    6       1.0000            0.7692           0.6667  \n",
       "257                   12       1.3333            1.2308           1.3333  \n",
       "258                   12       1.5000            1.2308           1.3333  \n",
       "259                    6       1.0000            0.7692           0.6667  \n",
       "\n",
       "[260 rows x 17 columns]"
      ]
     },
     "execution_count": 20,
     "metadata": {},
     "output_type": "execute_result"
    }
   ],
   "source": [
    "df"
   ]
  },
  {
   "cell_type": "code",
   "execution_count": null,
   "metadata": {},
   "outputs": [],
   "source": [
    "import seaborn as sns\n",
    "import matplotlib.pyplot as plt\n"
   ]
  },
  {
   "cell_type": "code",
   "execution_count": null,
   "metadata": {},
   "outputs": [
    {
     "data": {
      "text/plain": [
       "<Axes: xlabel='optimization_level', ylabel='depth_ratio'>"
      ]
     },
     "execution_count": 22,
     "metadata": {},
     "output_type": "execute_result"
    },
    {
     "data": {
      "image/png": "[encoded data removed]",
      "text/plain": [
       "<Figure size 640x480 with 1 Axes>"
      ]
     },
     "metadata": {},
     "output_type": "display_data"
    }
   ],
   "source": [
    "sns.barplot(df, x='optimization_level', y='depth_ratio', hue='routing_method')"
   ]
  },
  {
   "cell_type": "code",
   "execution_count": null,
   "metadata": {},
   "outputs": [
    {
     "data": {
      "text/plain": [
       "<Axes: xlabel='optimization_level', ylabel='depth_ratio'>"
      ]
     },
     "execution_count": 23,
     "metadata": {},
     "output_type": "execute_result"
    },
    {
     "data": {
      "image/png": "[encoded data removed]",
      "text/plain": [
       "<Figure size 640x480 with 1 Axes>"
      ]
     },
     "metadata": {},
     "output_type": "display_data"
    }
   ],
   "source": [
    "sns.barplot(df, x='optimization_level', y='depth_ratio', hue='layout_method')\n"
   ]
  },
  {
   "cell_type": "code",
   "execution_count": null,
   "metadata": {},
   "outputs": [
    {
     "data": {
      "text/plain": [
       "<Axes: xlabel='total_gate_ratio', ylabel='optimization_level'>"
      ]
     },
     "execution_count": 24,
     "metadata": {},
     "output_type": "execute_result"
    },
    {
     "data": {
      "image/png": "[encoded data removed]",
      "text/plain": [
       "<Figure size 640x480 with 1 Axes>"
      ]
     },
     "metadata": {},
     "output_type": "display_data"
    }
   ],
   "source": [
    "sns.barplot(df, x='total_gate_ratio', y='optimization_level', hue='routing_method', orient='h')\n"
   ]
  },
  {
   "cell_type": "code",
   "execution_count": null,
   "metadata": {},
   "outputs": [
    {
     "data": {
      "text/plain": [
       "<Axes: xlabel='total_gate_ratio', ylabel='optimization_level'>"
      ]
     },
     "execution_count": 25,
     "metadata": {},
     "output_type": "execute_result"
    },
    {
     "data": {
      "image/png": "[encoded data removed]",
      "text/plain": [
       "<Figure size 640x480 with 1 Axes>"
      ]
     },
     "metadata": {},
     "output_type": "display_data"
    }
   ],
   "source": [
    "sns.barplot(df, x='total_gate_ratio', y='optimization_level', hue='layout_method', orient='h')\n"
   ]
  },
  {
   "cell_type": "code",
   "execution_count": null,
   "metadata": {},
   "outputs": [
    {
     "data": {
      "text/plain": [
       "<Axes: xlabel='total_gate_ratio', ylabel='optimization_level'>"
      ]
     },
     "execution_count": 26,
     "metadata": {},
     "output_type": "execute_result"
    },
    {
     "data": {
      "image/png": "[encoded data removed]",
      "text/plain": [
       "<Figure size 640x480 with 1 Axes>"
      ]
     },
     "metadata": {},
     "output_type": "display_data"
    }
   ],
   "source": [
    "sns.barplot(df, x='total_gate_ratio', y='optimization_level', hue='topo_type', orient='h')\n"
   ]
  },
  {
   "cell_type": "code",
   "execution_count": null,
   "metadata": {},
   "outputs": [
    {
     "data": {
      "text/plain": [
       "<Axes: xlabel='depth_ratio', ylabel='optimization_level'>"
      ]
     },
     "execution_count": 27,
     "metadata": {},
     "output_type": "execute_result"
    },
    {
     "data": {
      "image/png": "[encoded data removed]",
      "text/plain": [
       "<Figure size 640x480 with 1 Axes>"
      ]
     },
     "metadata": {},
     "output_type": "display_data"
    }
   ],
   "source": [
    "sns.barplot(df, x='depth_ratio', y='optimization_level', hue='topo_type', orient='h')\n"
   ]
  },
  {
   "cell_type": "markdown",
   "metadata": {},
   "source": [
    "## Use with DataLoader\n",
    "\n",
    "We don't need custom collate_fn!! Also `num_workers` is supported!"
   ]
  },
  {
   "cell_type": "code",
   "execution_count": null,
   "metadata": {},
   "outputs": [],
   "source": [
    "from dataset import DataLoader\n",
    "\n",
    "dataloader = DataLoader(dataset, batch_size=8, shuffle=True, num_workers=4)"
   ]
  },
  {
   "cell_type": "code",
   "execution_count": null,
   "metadata": {},
   "outputs": [],
   "source": [
    "batch_data = next(iter(dataloader))"
   ]
  },
  {
   "cell_type": "code",
   "execution_count": null,
   "metadata": {},
   "outputs": [
    {
     "data": {
      "text/plain": [
       "torch.Size([8, 1024, 1024])"
      ]
     },
     "execution_count": 30,
     "metadata": {},
     "output_type": "execute_result"
    }
   ],
   "source": [
    "batch_data['quantum_optimized']['unitary'].shape"
   ]
  },
  {
   "cell_type": "code",
   "execution_count": null,
   "metadata": {},
   "outputs": [
    {
     "data": {
      "text/plain": [
       "8"
      ]
     },
     "execution_count": 31,
     "metadata": {},
     "output_type": "execute_result"
    }
   ],
   "source": [
    "batch_data['g'].num_graphs"
   ]
  },
  {
   "cell_type": "code",
   "execution_count": null,
   "metadata": {},
   "outputs": [
    {
     "data": {
      "text/plain": [
       "4"
      ]
     },
     "execution_count": 32,
     "metadata": {},
     "output_type": "execute_result"
    }
   ],
   "source": [
    "dataloader.num_workers"
   ]
  }
 ],
 "metadata": {
  "kernelspec": {
   "display_name": "py39",
   "language": "python",
   "name": "python3"
  },
  "language_info": {
   "codemirror_mode": {
    "name": "ipython",
    "version": 3
   },
   "file_extension": ".py",
   "mimetype": "text/x-python",
   "name": "python",
   "nbconvert_exporter": "python",
   "pygments_lexer": "ipython3",
   "version": "3.9.23"
  }
 },
 "nbformat": 4,
 "nbformat_minor": 2
}
