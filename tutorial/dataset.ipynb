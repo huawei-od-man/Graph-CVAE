{
 "cells": [
  {
   "cell_type": "code",
   "execution_count": 1,
   "metadata": {},
   "outputs": [
    {
     "name": "stdout",
     "output_type": "stream",
     "text": [
      "/Users/fengcong/Quantum/Graph-CVAE\n"
     ]
    }
   ],
   "source": [
    "cd .."
   ]
  },
  {
   "cell_type": "code",
   "execution_count": 16,
   "metadata": {},
   "outputs": [
    {
     "name": "stdout",
     "output_type": "stream",
     "text": [
      "Transpile参数组合数：19\n",
      "\n",
      "=== 开始生成数据集 ===\n",
      "基础样本数：1 | 拓扑类型：['grid'] | 总样本数：19\n",
      "比特数：10 | 门类型：['h', 'x', 'cx', 'swap', 'z'] | 最大电路深度：100\n"
     ]
    },
    {
     "name": "stderr",
     "output_type": "stream",
     "text": [
      "原始电路生成进度:   0%|          | 0/1 [00:00<?, ?it/s]/Library/Frameworks/Python.framework/Versions/3.12/lib/python3.12/site-packages/qiskit/circuit/quantumcircuit.py:4625: UserWarning: Trying to add QuantumRegister to a QuantumCircuit having a layout\n",
      "  circ.add_register(qreg)\n",
      "原始电路生成进度: 100%|██████████| 1/1 [00:43<00:00, 43.16s/it]"
     ]
    },
    {
     "name": "stdout",
     "output_type": "stream",
     "text": [
      "\n",
      "=== 数据集生成完成 ===\n",
      "成功生成样本数：19/19\n"
     ]
    },
    {
     "name": "stderr",
     "output_type": "stream",
     "text": [
      "\n"
     ]
    }
   ],
   "source": [
    "from dataset import QuantumCircuitDataset\n",
    "\n",
    "dataset = QuantumCircuitDataset(\n",
    "    './data/temp',\n",
    "    base_num_samples=1,\n",
    "    num_qubits=10,\n",
    "    max_depth=100,\n",
    "    regenerate=True,\n",
    "    topo_types=['grid']\n",
    ")"
   ]
  },
  {
   "cell_type": "code",
   "execution_count": 17,
   "metadata": {},
   "outputs": [
    {
     "data": {
      "text/plain": [
       "19"
      ]
     },
     "execution_count": 17,
     "metadata": {},
     "output_type": "execute_result"
    }
   ],
   "source": [
    "len(dataset)"
   ]
  },
  {
   "cell_type": "code",
   "execution_count": 27,
   "metadata": {},
   "outputs": [
    {
     "data": {
      "text/plain": [
       "{'g': Data(x=[96, 15], edge_index=[2, 147]),\n",
       " 't': Data(x=[10, 10], edge_index=[2, 26]),\n",
       " 'g_star': Data(x=[70, 15], edge_index=[2, 120]),\n",
       " 'quantum_origin': {'statevector': tensor([ 1.1418e-18+0.j,  0.0000e+00+0.j, -1.1418e-18+0.j,  ...,\n",
       "           0.0000e+00+0.j,  0.0000e+00+0.j,  0.0000e+00+0.j]),\n",
       "  'unitary': tensor([[ 0.0000+0.j,  0.0000+0.j, -0.2500+0.j,  ...,  0.0000+0.j,  0.0000+0.j,\n",
       "            0.0000+0.j],\n",
       "          [ 0.0000+0.j,  0.0000+0.j,  0.0000+0.j,  ...,  0.0000+0.j,  0.0000+0.j,\n",
       "            0.0000+0.j],\n",
       "          [ 0.0000+0.j,  0.0000+0.j,  0.2500+0.j,  ...,  0.0000+0.j,  0.0000+0.j,\n",
       "            0.0000+0.j],\n",
       "          ...,\n",
       "          [ 0.0000+0.j,  0.0000+0.j,  0.0000+0.j,  ...,  0.0000+0.j,  0.0000+0.j,\n",
       "            0.2500+0.j],\n",
       "          [ 0.0000+0.j,  0.0000+0.j,  0.0000+0.j,  ...,  0.0000+0.j,  0.0000+0.j,\n",
       "            0.0000+0.j],\n",
       "          [ 0.0000+0.j,  0.0000+0.j,  0.0000+0.j,  ...,  0.0000+0.j,  0.0000+0.j,\n",
       "            0.2500+0.j]])},\n",
       " 'quantum_optimized': {'statevector': tensor([-3.3348e-17-1.1913e-33j,  0.0000e+00+0.0000e+00j,\n",
       "           0.0000e+00+0.0000e+00j,  ...,\n",
       "           0.0000e+00+0.0000e+00j, -2.8742e-18-1.2932e-33j,\n",
       "           0.0000e+00+0.0000e+00j]),\n",
       "  'unitary': tensor([[-2.7756e-17-1.5407e-33j,  0.0000e+00+0.0000e+00j,\n",
       "           -2.5000e-01-1.5308e-17j,  ...,\n",
       "            0.0000e+00+0.0000e+00j,  0.0000e+00+0.0000e+00j,\n",
       "            0.0000e+00+0.0000e+00j],\n",
       "          [ 0.0000e+00+0.0000e+00j,  0.0000e+00+0.0000e+00j,\n",
       "            0.0000e+00+0.0000e+00j,  ...,\n",
       "            0.0000e+00+0.0000e+00j,  0.0000e+00+0.0000e+00j,\n",
       "            0.0000e+00+0.0000e+00j],\n",
       "          [ 0.0000e+00+0.0000e+00j,  0.0000e+00+0.0000e+00j,\n",
       "            0.0000e+00+0.0000e+00j,  ...,\n",
       "            0.0000e+00+0.0000e+00j,  0.0000e+00+0.0000e+00j,\n",
       "            0.0000e+00+0.0000e+00j],\n",
       "          ...,\n",
       "          [ 0.0000e+00+0.0000e+00j,  0.0000e+00+0.0000e+00j,\n",
       "            0.0000e+00+0.0000e+00j,  ...,\n",
       "            0.0000e+00+0.0000e+00j,  0.0000e+00+0.0000e+00j,\n",
       "            0.0000e+00+0.0000e+00j],\n",
       "          [ 0.0000e+00+0.0000e+00j,  0.0000e+00+0.0000e+00j,\n",
       "            0.0000e+00+0.0000e+00j,  ...,\n",
       "            0.0000e+00+0.0000e+00j,  0.0000e+00+0.0000e+00j,\n",
       "            0.0000e+00+0.0000e+00j],\n",
       "          [ 0.0000e+00+0.0000e+00j,  0.0000e+00+0.0000e+00j,\n",
       "            0.0000e+00+0.0000e+00j,  ...,\n",
       "           -2.7756e-17-2.4652e-32j,  0.0000e+00+0.0000e+00j,\n",
       "            2.5000e-01+1.3777e-16j]])},\n",
       " 'optimization_metrics': {'depth_ratio': 1.1351,\n",
       "  'total_gate_ratio': 0.7812,\n",
       "  'two_qubit_ratio': 0.8889},\n",
       " 'circuit_origin_info': {'num_qubits': 10,\n",
       "  'total_gates': 96,\n",
       "  'depth': 37,\n",
       "  'two_qubit_gates': 63},\n",
       " 'circuit_optimized_info': {'num_qubits': 10,\n",
       "  'total_gates': 75,\n",
       "  'depth': 42,\n",
       "  'two_qubit_gates': 56},\n",
       " 'meta': {'base_idx': 0,\n",
       "  'topo_type': 2,\n",
       "  'layout_method': 0,\n",
       "  'routing_method': 1,\n",
       "  'optimization_level': 2}}"
      ]
     },
     "execution_count": 27,
     "metadata": {},
     "output_type": "execute_result"
    }
   ],
   "source": [
    "dataset[3]"
   ]
  }
 ],
 "metadata": {
  "kernelspec": {
   "display_name": "Python 3",
   "language": "python",
   "name": "python3"
  },
  "language_info": {
   "codemirror_mode": {
    "name": "ipython",
    "version": 3
   },
   "file_extension": ".py",
   "mimetype": "text/x-python",
   "name": "python",
   "nbconvert_exporter": "python",
   "pygments_lexer": "ipython3",
   "version": "3.12.7"
  }
 },
 "nbformat": 4,
 "nbformat_minor": 2
}
