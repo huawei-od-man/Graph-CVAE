{
 "cells": [
  {
   "cell_type": "code",
   "execution_count": 1,
   "metadata": {},
   "outputs": [
    {
     "name": "stdout",
     "output_type": "stream",
     "text": [
      "/Users/fengcong/Quantum/Graph-CVAE\n"
     ]
    }
   ],
   "source": [
    "cd .."
   ]
  },
  {
   "cell_type": "code",
   "execution_count": 2,
   "metadata": {},
   "outputs": [
    {
     "name": "stdout",
     "output_type": "stream",
     "text": [
      "Transpile参数组合数：19\n",
      "\n",
      "=== 开始生成数据集 ===\n",
      "基础样本数：1 | 拓扑类型：['grid'] | 总样本数：19\n",
      "比特数：10 | 门类型：['h', 'x', 'cx', 'swap', 'z'] | 最大电路深度：100\n"
     ]
    },
    {
     "name": "stderr",
     "output_type": "stream",
     "text": [
      "原始电路生成进度:   0%|          | 0/1 [00:00<?, ?it/s]/Library/Frameworks/Python.framework/Versions/3.12/lib/python3.12/site-packages/qiskit/circuit/quantumcircuit.py:4625: UserWarning: Trying to add QuantumRegister to a QuantumCircuit having a layout\n",
      "  circ.add_register(qreg)\n",
      "/Library/Frameworks/Python.framework/Versions/3.12/lib/python3.12/site-packages/qiskit/circuit/quantumcircuit.py:4625: UserWarning: Trying to add QuantumRegister to a QuantumCircuit having a layout\n",
      "  circ.add_register(qreg)\n",
      "原始电路生成进度: 100%|██████████| 1/1 [00:10<00:00, 10.42s/it]"
     ]
    },
    {
     "name": "stdout",
     "output_type": "stream",
     "text": [
      "\n",
      "=== 数据集生成完成 ===\n",
      "成功生成样本数：19/19\n"
     ]
    },
    {
     "name": "stderr",
     "output_type": "stream",
     "text": [
      "\n"
     ]
    }
   ],
   "source": [
    "from dataset import QuantumCircuitDataset\n",
    "\n",
    "dataset = QuantumCircuitDataset(\n",
    "    './data/temp',\n",
    "    base_num_samples=1,\n",
    "    num_qubits=10,\n",
    "    max_depth=100,\n",
    "    regenerate=True,\n",
    "    topo_types=['grid']\n",
    ")"
   ]
  },
  {
   "cell_type": "code",
   "execution_count": 9,
   "metadata": {},
   "outputs": [
    {
     "data": {
      "text/plain": [
       "19"
      ]
     },
     "execution_count": 9,
     "metadata": {},
     "output_type": "execute_result"
    }
   ],
   "source": [
    "len(dataset)"
   ]
  },
  {
   "cell_type": "code",
   "execution_count": 10,
   "metadata": {},
   "outputs": [
    {
     "data": {
      "text/plain": [
       "{'g': Data(x=[31, 15], edge_index=[2, 37]),\n",
       " 't': Data(x=[10, 10], edge_index=[2, 26]),\n",
       " 'g_star': Data(x=[22, 15], edge_index=[2, 25]),\n",
       " 'quantum_origin': {'statevector': tensor([0.+0.j, 0.+0.j, 0.+0.j,  ..., 0.+0.j, 0.+0.j, 0.+0.j]),\n",
       "  'unitary': tensor([[0.0000+0.j, 0.0000+0.j, 0.0000+0.j,  ..., 0.0000+0.j, 0.0000+0.j, 0.0000+0.j],\n",
       "          [0.0000+0.j, 0.0000+0.j, 0.0000+0.j,  ..., 0.0000+0.j, 0.0000+0.j, 0.0000+0.j],\n",
       "          [0.0000+0.j, 0.0000+0.j, 0.0000+0.j,  ..., 0.0000+0.j, 0.0000+0.j, 0.0000+0.j],\n",
       "          ...,\n",
       "          [0.0000+0.j, 0.0000+0.j, 0.0000+0.j,  ..., 0.0000+0.j, 0.0000+0.j, 0.0000+0.j],\n",
       "          [0.0000+0.j, 0.0000+0.j, 0.0000+0.j,  ..., 0.3536+0.j, 0.0000+0.j, 0.0000+0.j],\n",
       "          [0.0000+0.j, 0.0000+0.j, 0.0000+0.j,  ..., 0.0000+0.j, 0.0000+0.j, 0.0000+0.j]])},\n",
       " 'quantum_optimized': {'statevector': tensor([0.+0.j, 0.+0.j, 0.+0.j,  ..., 0.+0.j, 0.+0.j, 0.+0.j]),\n",
       "  'unitary': tensor([[0.+0.j, 0.+0.j, 0.+0.j,  ..., 0.+0.j, 0.+0.j, 0.+0.j],\n",
       "          [0.+0.j, 0.+0.j, 0.+0.j,  ..., 0.+0.j, 0.+0.j, 0.+0.j],\n",
       "          [0.+0.j, 0.+0.j, 0.+0.j,  ..., 0.+0.j, 0.+0.j, 0.+0.j],\n",
       "          ...,\n",
       "          [0.+0.j, 0.+0.j, 0.+0.j,  ..., 0.+0.j, 0.+0.j, 0.+0.j],\n",
       "          [0.+0.j, 0.+0.j, 0.+0.j,  ..., 0.+0.j, 0.+0.j, 0.+0.j],\n",
       "          [0.+0.j, 0.+0.j, 0.+0.j,  ..., 0.+0.j, 0.+0.j, 0.+0.j]])},\n",
       " 'optimization_metrics': {'depth_ratio': 0.5833,\n",
       "  'total_gate_ratio': 0.7742,\n",
       "  'two_qubit_ratio': 0.8125},\n",
       " 'circuit_origin_info': {'num_qubits': 10,\n",
       "  'total_gates': 31,\n",
       "  'depth': 12,\n",
       "  'two_qubit_gates': 16},\n",
       " 'circuit_optimized_info': {'num_qubits': 10,\n",
       "  'total_gates': 24,\n",
       "  'depth': 7,\n",
       "  'two_qubit_gates': 13},\n",
       " 'meta': {'base_idx': 0,\n",
       "  'topo_type': 2,\n",
       "  'layout_method': 0,\n",
       "  'routing_method': 1,\n",
       "  'optimization_level': 2}}"
      ]
     },
     "execution_count": 10,
     "metadata": {},
     "output_type": "execute_result"
    }
   ],
   "source": [
    "dataset[3]"
   ]
  },
  {
   "cell_type": "markdown",
   "metadata": {},
   "source": [
    "## Visualize g, g* (optimzed g), and t."
   ]
  },
  {
   "cell_type": "code",
   "execution_count": 11,
   "metadata": {},
   "outputs": [],
   "source": [
    "sample = dataset[1]\n",
    "g, g_star, t = sample['g'], sample['g_star'], sample['t']"
   ]
  },
  {
   "cell_type": "code",
   "execution_count": 12,
   "metadata": {},
   "outputs": [
    {
     "data": {
      "text/plain": [
       "tensor([[ 0,  2,  3,  4,  5,  1,  7,  1,  4,  9,  7, 10,  8, 12,  9, 13, 14, 10,\n",
       "         15, 11, 17, 14, 18, 13, 19,  6, 20, 15, 22, 16, 23, 23, 25, 22, 24, 26,\n",
       "         16, 27, 11, 28, 29, 21, 29],\n",
       "        [ 1,  4,  4,  5,  6,  7,  8,  8,  9, 10, 10, 11, 11, 13, 13, 14, 15, 15,\n",
       "         16, 16, 18, 18, 19, 20, 20, 21, 21, 22, 23, 23, 24, 25, 26, 26, 27, 27,\n",
       "         28, 28, 29, 29, 30, 31, 31]])"
      ]
     },
     "execution_count": 12,
     "metadata": {},
     "output_type": "execute_result"
    }
   ],
   "source": [
    "g_star.edge_index"
   ]
  },
  {
   "cell_type": "code",
   "execution_count": null,
   "metadata": {},
   "outputs": [],
   "source": [
    "from converter import data_to_quantum_circuit\n",
    "\n",
    "g_qc = data_to_quantum_circuit(g, dataset.num_qubits, dataset.basic_gates)\n",
    "g_star_qc = data_to_quantum_circuit(g_star, dataset.num_qubits, dataset.basic_gates)"
   ]
  },
  {
   "cell_type": "code",
   "execution_count": null,
   "metadata": {},
   "outputs": [
    {
     "data": {
      "text/html": [
       "<pre style=\"word-wrap: normal;white-space: pre;background: #fff0;line-height: 1.1;font-family: &quot;Courier New&quot;,Courier,monospace\">     ┌───┐               ┌───┐                                              »\n",
       "q_0: ┤ Z ├───────■────■──┤ Z ├──────────────────────────────────────────────»\n",
       "     └───┘       │  ┌─┴─┐├───┤                                              »\n",
       "q_1: ────────────┼──┤ X ├┤ X ├──────────────────────────────────────────────»\n",
       "                 │  └───┘└───┘                                              »\n",
       "q_2: ────────────┼────X──────────────────────■────────────■─────────■───────»\n",
       "                 │    │  ┌───┐┌───┐          │            │         │       »\n",
       "q_3: ───────■────┼────┼──┤ Z ├┤ H ├──────────┼────────────┼─────────┼───────»\n",
       "     ┌───┐┌─┴─┐  │    │  ├───┤└───┘          │            │         │       »\n",
       "q_4: ┤ X ├┤ X ├──┼────┼──┤ Z ├───────────────┼────────────┼────X────┼───────»\n",
       "     └───┘└───┘  │    │  └───┘               │          ┌─┴─┐  │    │       »\n",
       "q_5: ──X─────────┼────┼────■─────────────────┼────────X─┤ X ├──X────┼────■──»\n",
       "       │  ┌───┐  │    │    │                 │  ┌───┐ │ └───┘       │    │  »\n",
       "q_6: ──┼──┤ X ├──┼────┼────┼────────X───■────┼──┤ Z ├─┼─────────────┼────┼──»\n",
       "       │  └───┘  │    │    │  ┌───┐ │   │    │  └───┘ │           ┌─┴─┐  │  »\n",
       "q_7: ──X─────────┼────X────┼──┤ Z ├─X───┼────┼────────┼───────────┤ X ├──┼──»\n",
       "     ┌───┐       │       ┌─┴─┐└───┘     │    │        │           └───┘┌─┴─┐»\n",
       "q_8: ┤ H ├───────┼───────┤ X ├──────────┼────┼────────┼────────────────┤ X ├»\n",
       "     └───┘     ┌─┴─┐     └───┘        ┌─┴─┐┌─┴─┐      │ ┌───┐┌───┐┌───┐├───┤»\n",
       "q_9: ──────────┤ X ├──────────────────┤ X ├┤ X ├──────X─┤ X ├┤ H ├┤ X ├┤ X ├»\n",
       "               └───┘                  └───┘└───┘        └───┘└───┘└───┘└───┘»\n",
       "«             \n",
       "«q_0: ──────X─\n",
       "«           │ \n",
       "«q_1: ──────┼─\n",
       "«           │ \n",
       "«q_2: ──────┼─\n",
       "«           │ \n",
       "«q_3: ──────┼─\n",
       "«           │ \n",
       "«q_4: ──■───X─\n",
       "«     ┌─┴─┐   \n",
       "«q_5: ┤ X ├───\n",
       "«     └───┘   \n",
       "«q_6: ────────\n",
       "«             \n",
       "«q_7: ────────\n",
       "«             \n",
       "«q_8: ────────\n",
       "«             \n",
       "«q_9: ────────\n",
       "«             </pre>"
      ],
      "text/plain": [
       "     ┌───┐               ┌───┐                                              »\n",
       "q_0: ┤ Z ├───────■────■──┤ Z ├──────────────────────────────────────────────»\n",
       "     └───┘       │  ┌─┴─┐├───┤                                              »\n",
       "q_1: ────────────┼──┤ X ├┤ X ├──────────────────────────────────────────────»\n",
       "                 │  └───┘└───┘                                              »\n",
       "q_2: ────────────┼────X──────────────────────■────────────■─────────■───────»\n",
       "                 │    │  ┌───┐┌───┐          │            │         │       »\n",
       "q_3: ───────■────┼────┼──┤ Z ├┤ H ├──────────┼────────────┼─────────┼───────»\n",
       "     ┌───┐┌─┴─┐  │    │  ├───┤└───┘          │            │         │       »\n",
       "q_4: ┤ X ├┤ X ├──┼────┼──┤ Z ├───────────────┼────────────┼────X────┼───────»\n",
       "     └───┘└───┘  │    │  └───┘               │          ┌─┴─┐  │    │       »\n",
       "q_5: ──X─────────┼────┼────■─────────────────┼────────X─┤ X ├──X────┼────■──»\n",
       "       │  ┌───┐  │    │    │                 │  ┌───┐ │ └───┘       │    │  »\n",
       "q_6: ──┼──┤ X ├──┼────┼────┼────────X───■────┼──┤ Z ├─┼─────────────┼────┼──»\n",
       "       │  └───┘  │    │    │  ┌───┐ │   │    │  └───┘ │           ┌─┴─┐  │  »\n",
       "q_7: ──X─────────┼────X────┼──┤ Z ├─X───┼────┼────────┼───────────┤ X ├──┼──»\n",
       "     ┌───┐       │       ┌─┴─┐└───┘     │    │        │           └───┘┌─┴─┐»\n",
       "q_8: ┤ H ├───────┼───────┤ X ├──────────┼────┼────────┼────────────────┤ X ├»\n",
       "     └───┘     ┌─┴─┐     └───┘        ┌─┴─┐┌─┴─┐      │ ┌───┐┌───┐┌───┐├───┤»\n",
       "q_9: ──────────┤ X ├──────────────────┤ X ├┤ X ├──────X─┤ X ├┤ H ├┤ X ├┤ X ├»\n",
       "               └───┘                  └───┘└───┘        └───┘└───┘└───┘└───┘»\n",
       "«             \n",
       "«q_0: ──────X─\n",
       "«           │ \n",
       "«q_1: ──────┼─\n",
       "«           │ \n",
       "«q_2: ──────┼─\n",
       "«           │ \n",
       "«q_3: ──────┼─\n",
       "«           │ \n",
       "«q_4: ──■───X─\n",
       "«     ┌─┴─┐   \n",
       "«q_5: ┤ X ├───\n",
       "«     └───┘   \n",
       "«q_6: ────────\n",
       "«             \n",
       "«q_7: ────────\n",
       "«             \n",
       "«q_8: ────────\n",
       "«             \n",
       "«q_9: ────────\n",
       "«             "
      ]
     },
     "execution_count": 17,
     "metadata": {},
     "output_type": "execute_result"
    }
   ],
   "source": [
    "g_qc.draw()"
   ]
  },
  {
   "cell_type": "code",
   "execution_count": 18,
   "metadata": {},
   "outputs": [
    {
     "data": {
      "text/html": [
       "<pre style=\"word-wrap: normal;white-space: pre;background: #fff0;line-height: 1.1;font-family: &quot;Courier New&quot;,Courier,monospace\">     ┌───┐                                                               \n",
       "q_0: ┤ Z ├─X──────X──────────────────────────────────────────────────────\n",
       "     └───┘ │      │                                                 ┌───┐\n",
       "q_1: ──────X──X───X────────X─────────────────────────────────────■──┤ Z ├\n",
       "     ┌───┐    │      ┌───┐ │                                     │  └───┘\n",
       "q_2: ┤ Z ├─X──┼───■──┤ Z ├─┼──────────────────────────■──────────┼────■──\n",
       "     └───┘ │  │ ┌─┴─┐└───┘ │                          │        ┌─┴─┐┌─┴─┐\n",
       "q_3: ──────┼──X─┤ X ├──X───X───X──────────────────────┼──────X─┤ X ├┤ X ├\n",
       "     ┌───┐ │    └───┘  │       │                    ┌─┴─┐    │ └───┘└───┘\n",
       "q_4: ┤ X ├─X──X───■────┼───────┼─────────────────X──┤ X ├────┼───────────\n",
       "     └───┘    │   │    │       │                 │  ├───┤    │           \n",
       "q_5: ─────────X───┼────X───X───X────────────■────┼──┤ X ├─X──X───────────\n",
       "     ┌───┐      ┌─┴─┐      │                │    │  └───┘ │              \n",
       "q_6: ┤ X ├──────┤ X ├──X───┼───■────────X───┼────X────────┼──────────────\n",
       "     └───┘      └───┘  │   │   │        │ ┌─┴─┐┌───┐      │              \n",
       "q_7: ──────────────────X───X───┼────■───┼─┤ X ├┤ Z ├──X───X──────────────\n",
       "     ┌───┐                   ┌─┴─┐  │   │ └───┘└───┘  │                  \n",
       "q_8: ┤ H ├───────────────────┤ X ├──┼───X─────────────┼──────────────────\n",
       "     └───┘                   └───┘┌─┴─┐               │                  \n",
       "q_9: ─────────────────────────────┤ X ├───────────────X──────────────────\n",
       "                                  └───┘                                  </pre>"
      ],
      "text/plain": [
       "     ┌───┐                                                               \n",
       "q_0: ┤ Z ├─X──────X──────────────────────────────────────────────────────\n",
       "     └───┘ │      │                                                 ┌───┐\n",
       "q_1: ──────X──X───X────────X─────────────────────────────────────■──┤ Z ├\n",
       "     ┌───┐    │      ┌───┐ │                                     │  └───┘\n",
       "q_2: ┤ Z ├─X──┼───■──┤ Z ├─┼──────────────────────────■──────────┼────■──\n",
       "     └───┘ │  │ ┌─┴─┐└───┘ │                          │        ┌─┴─┐┌─┴─┐\n",
       "q_3: ──────┼──X─┤ X ├──X───X───X──────────────────────┼──────X─┤ X ├┤ X ├\n",
       "     ┌───┐ │    └───┘  │       │                    ┌─┴─┐    │ └───┘└───┘\n",
       "q_4: ┤ X ├─X──X───■────┼───────┼─────────────────X──┤ X ├────┼───────────\n",
       "     └───┘    │   │    │       │                 │  ├───┤    │           \n",
       "q_5: ─────────X───┼────X───X───X────────────■────┼──┤ X ├─X──X───────────\n",
       "     ┌───┐      ┌─┴─┐      │                │    │  └───┘ │              \n",
       "q_6: ┤ X ├──────┤ X ├──X───┼───■────────X───┼────X────────┼──────────────\n",
       "     └───┘      └───┘  │   │   │        │ ┌─┴─┐┌───┐      │              \n",
       "q_7: ──────────────────X───X───┼────■───┼─┤ X ├┤ Z ├──X───X──────────────\n",
       "     ┌───┐                   ┌─┴─┐  │   │ └───┘└───┘  │                  \n",
       "q_8: ┤ H ├───────────────────┤ X ├──┼───X─────────────┼──────────────────\n",
       "     └───┘                   └───┘┌─┴─┐               │                  \n",
       "q_9: ─────────────────────────────┤ X ├───────────────X──────────────────\n",
       "                                  └───┘                                  "
      ]
     },
     "execution_count": 18,
     "metadata": {},
     "output_type": "execute_result"
    }
   ],
   "source": [
    "g_star_qc.draw()"
   ]
  },
  {
   "cell_type": "code",
   "execution_count": 19,
   "metadata": {},
   "outputs": [
    {
     "data": {
      "text/plain": [
       "{'depth_ratio': 1.1667, 'total_gate_ratio': 1.0968, 'two_qubit_ratio': 1.4375}"
      ]
     },
     "execution_count": 19,
     "metadata": {},
     "output_type": "execute_result"
    }
   ],
   "source": [
    "sample['optimization_metrics']"
   ]
  },
  {
   "cell_type": "code",
   "execution_count": 20,
   "metadata": {},
   "outputs": [
    {
     "data": {
      "text/plain": [
       "{'base_idx': 0,\n",
       " 'topo_type': 2,\n",
       " 'layout_method': 0,\n",
       " 'routing_method': 0,\n",
       " 'optimization_level': 2}"
      ]
     },
     "execution_count": 20,
     "metadata": {},
     "output_type": "execute_result"
    }
   ],
   "source": [
    "sample['meta']"
   ]
  },
  {
   "cell_type": "code",
   "execution_count": 25,
   "metadata": {},
   "outputs": [],
   "source": [
    "origin_um = sample['quantum_origin']['unitary'].numpy()\n",
    "optimized_um = sample['quantum_optimized']['unitary'].numpy()"
   ]
  },
  {
   "cell_type": "code",
   "execution_count": 28,
   "metadata": {},
   "outputs": [
    {
     "data": {
      "text/plain": [
       "((1024, 1024), (1024, 1024))"
      ]
     },
     "execution_count": 28,
     "metadata": {},
     "output_type": "execute_result"
    }
   ],
   "source": [
    "optimized_um.shape, origin_um.shape"
   ]
  },
  {
   "cell_type": "markdown",
   "metadata": {},
   "source": [
    "## Visualize topo."
   ]
  },
  {
   "cell_type": "code",
   "execution_count": 29,
   "metadata": {},
   "outputs": [
    {
     "data": {
      "text/plain": [
       "Data(x=[10, 10], edge_index=[2, 26])"
      ]
     },
     "execution_count": 29,
     "metadata": {},
     "output_type": "execute_result"
    }
   ],
   "source": [
    "topo_data = sample['t']\n",
    "topo_data"
   ]
  },
  {
   "cell_type": "code",
   "execution_count": 33,
   "metadata": {},
   "outputs": [
    {
     "data": {
      "text/plain": [
       "(13, 10)"
      ]
     },
     "execution_count": 33,
     "metadata": {},
     "output_type": "execute_result"
    }
   ],
   "source": [
    "from torch_geometric.utils import to_networkx\n",
    "\n",
    "topo_g = to_networkx(topo_data, to_undirected=True)\n",
    "topo_g.number_of_edges(), topo_g.number_of_nodes()"
   ]
  },
  {
   "cell_type": "code",
   "execution_count": 36,
   "metadata": {},
   "outputs": [
    {
     "data": {
      "image/png": "[encoded data removed]",
      "text/plain": [
       "<Figure size 640x480 with 1 Axes>"
      ]
     },
     "metadata": {},
     "output_type": "display_data"
    }
   ],
   "source": [
    "import networkx as nx\n",
    "\n",
    "nx.draw(topo_g, node_size=50) # 2x5 grid"
   ]
  },
  {
   "cell_type": "markdown",
   "metadata": {},
   "source": [
    "## Statistic of the dataset."
   ]
  },
  {
   "cell_type": "code",
   "execution_count": 37,
   "metadata": {},
   "outputs": [
    {
     "data": {
      "text/plain": [
       "dict_keys(['g', 't', 'g_star', 'quantum_origin', 'quantum_optimized', 'optimization_metrics', 'circuit_origin_info', 'circuit_optimized_info', 'meta'])"
      ]
     },
     "execution_count": 37,
     "metadata": {},
     "output_type": "execute_result"
    }
   ],
   "source": [
    "sample.keys()"
   ]
  }
 ],
 "metadata": {
  "kernelspec": {
   "display_name": "Python 3",
   "language": "python",
   "name": "python3"
  },
  "language_info": {
   "codemirror_mode": {
    "name": "ipython",
    "version": 3
   },
   "file_extension": ".py",
   "mimetype": "text/x-python",
   "name": "python",
   "nbconvert_exporter": "python",
   "pygments_lexer": "ipython3",
   "version": "3.12.7"
  }
 },
 "nbformat": 4,
 "nbformat_minor": 2
}
