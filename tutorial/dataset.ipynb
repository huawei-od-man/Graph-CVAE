{
 "cells": [
  {
   "cell_type": "code",
   "execution_count": 1,
   "metadata": {},
   "outputs": [
    {
     "name": "stdout",
     "output_type": "stream",
     "text": [
      "/Users/fengcong/Quantum/Graph-CVAE\n"
     ]
    }
   ],
   "source": [
    "cd .."
   ]
  },
  {
   "cell_type": "code",
   "execution_count": 2,
   "metadata": {},
   "outputs": [
    {
     "name": "stdout",
     "output_type": "stream",
     "text": [
      "Transpile参数组合数：19\n",
      "\n",
      "=== 开始生成数据集 ===\n",
      "基础样本数：5 | 拓扑类型：['grid', 'random'] | 总样本数：190\n",
      "比特数：10 | 门类型：['h', 'x', 'z', 't', 's', 'cx', 'swap'] | 最大电路深度：100\n"
     ]
    },
    {
     "name": "stderr",
     "output_type": "stream",
     "text": [
      "原始电路生成进度:   0%|          | 0/5 [00:00<?, ?it/s]/Library/Frameworks/Python.framework/Versions/3.12/lib/python3.12/site-packages/qiskit/circuit/quantumcircuit.py:4625: UserWarning: Trying to add QuantumRegister to a QuantumCircuit having a layout\n",
      "  circ.add_register(qreg)\n",
      "/Library/Frameworks/Python.framework/Versions/3.12/lib/python3.12/site-packages/qiskit/circuit/quantumcircuit.py:4625: UserWarning: Trying to add QuantumRegister to a QuantumCircuit having a layout\n",
      "  circ.add_register(qreg)\n",
      "原始电路生成进度: 100%|██████████| 5/5 [03:12<00:00, 38.40s/it]"
     ]
    },
    {
     "name": "stdout",
     "output_type": "stream",
     "text": [
      "\n",
      "=== 数据集生成完成 ===\n",
      "成功生成样本数：190/190\n"
     ]
    },
    {
     "name": "stderr",
     "output_type": "stream",
     "text": [
      "\n"
     ]
    }
   ],
   "source": [
    "from dataset import QuantumCircuitDataset\n",
    "import tempfile\n",
    "\n",
    "dataset = QuantumCircuitDataset(\n",
    "    tempfile.mkdtemp('quantum'),\n",
    "    base_num_samples=5,\n",
    "    num_qubits=10,\n",
    "    max_depth=100,\n",
    "    regenerate=True,\n",
    "    topo_types=['grid', 'random']\n",
    ")"
   ]
  },
  {
   "cell_type": "code",
   "execution_count": 4,
   "metadata": {},
   "outputs": [
    {
     "data": {
      "text/plain": [
       "190"
      ]
     },
     "execution_count": 4,
     "metadata": {},
     "output_type": "execute_result"
    }
   ],
   "source": [
    "len(dataset)"
   ]
  },
  {
   "cell_type": "code",
   "execution_count": 5,
   "metadata": {},
   "outputs": [
    {
     "data": {
      "text/plain": [
       "{'g': Data(x=[48, 17], edge_index=[2, 70]),\n",
       " 't': Data(x=[10, 10], edge_index=[2, 26]),\n",
       " 'g_star': Data(x=[47, 17], edge_index=[2, 68]),\n",
       " 'quantum_origin': {'statevector': tensor([0.+0.j, 0.+0.j, 0.+0.j,  ..., 0.+0.j, 0.+0.j, 0.+0.j]),\n",
       "  'unitary': tensor([[0.+0.j, 0.+0.j, 0.+0.j,  ..., 0.+0.j, 0.+0.j, 0.+0.j],\n",
       "          [0.+0.j, 0.+0.j, 0.+0.j,  ..., 0.+0.j, 0.+0.j, 0.+0.j],\n",
       "          [0.+0.j, 0.+0.j, 0.+0.j,  ..., 0.+0.j, 0.+0.j, 0.+0.j],\n",
       "          ...,\n",
       "          [0.+0.j, 0.+0.j, 0.+0.j,  ..., 0.+0.j, 0.+0.j, 0.+0.j],\n",
       "          [0.+0.j, 0.+0.j, 0.+0.j,  ..., 0.+0.j, 0.+0.j, 0.+0.j],\n",
       "          [0.+0.j, 0.+0.j, 0.+0.j,  ..., 0.+0.j, 0.+0.j, 0.+0.j]])},\n",
       " 'quantum_optimized': {'statevector': tensor([0.+0.j, 0.+0.j, 0.+0.j,  ..., 0.+0.j, 0.+0.j, 0.+0.j]),\n",
       "  'unitary': tensor([[0.+0.j, 0.+0.j, 0.+0.j,  ..., 0.+0.j, 0.+0.j, 0.+0.j],\n",
       "          [0.+0.j, 0.+0.j, 0.+0.j,  ..., 0.+0.j, 0.+0.j, 0.+0.j],\n",
       "          [0.+0.j, 0.+0.j, 0.+0.j,  ..., 0.+0.j, 0.+0.j, 0.+0.j],\n",
       "          ...,\n",
       "          [0.+0.j, 0.+0.j, 0.+0.j,  ..., 0.+0.j, 0.+0.j, 0.+0.j],\n",
       "          [0.+0.j, 0.+0.j, 0.+0.j,  ..., 0.+0.j, 0.+0.j, 0.+0.j],\n",
       "          [0.+0.j, 0.+0.j, 0.+0.j,  ..., 0.+0.j, 0.+0.j, 0.+0.j]])},\n",
       " 'optimization_metrics': {'depth_ratio': 1.6,\n",
       "  'total_gate_ratio': 0.9792,\n",
       "  'two_qubit_ratio': 1.0303},\n",
       " 'circuit_origin_info': {'num_qubits': 10,\n",
       "  'total_gates': 48,\n",
       "  'depth': 15,\n",
       "  'two_qubit_gates': 33},\n",
       " 'circuit_optimized_info': {'num_qubits': 10,\n",
       "  'total_gates': 47,\n",
       "  'depth': 24,\n",
       "  'two_qubit_gates': 34},\n",
       " 'meta': {'base_idx': 0,\n",
       "  'topo_type': 2,\n",
       "  'layout_method': 0,\n",
       "  'routing_method': 1,\n",
       "  'optimization_level': 2}}"
      ]
     },
     "execution_count": 5,
     "metadata": {},
     "output_type": "execute_result"
    }
   ],
   "source": [
    "dataset[3]"
   ]
  },
  {
   "cell_type": "markdown",
   "metadata": {},
   "source": [
    "## Visualize g, g* (optimzed g)."
   ]
  },
  {
   "cell_type": "code",
   "execution_count": 6,
   "metadata": {},
   "outputs": [],
   "source": [
    "sample = dataset[1]\n",
    "g, g_star, t = sample['g'], sample['g_star'], sample['t']"
   ]
  },
  {
   "cell_type": "code",
   "execution_count": 7,
   "metadata": {},
   "outputs": [
    {
     "data": {
      "text/plain": [
       "tensor([[ 1,  2,  3,  2,  1,  6,  5,  7,  5,  7,  9,  8, 10,  8, 12, 13, 14,  3,\n",
       "         15, 10, 14, 15, 17,  4, 18, 19, 18, 20, 21, 24, 23, 25, 11, 26, 22, 27,\n",
       "         21, 28, 20, 29,  0, 30, 31, 30, 32, 29, 32, 33, 34, 16, 34, 35, 36, 31,\n",
       "         36, 37, 37, 38, 35, 39, 17, 40, 38, 33, 39, 42, 40, 43, 44, 45, 43, 46,\n",
       "         47, 44, 42, 47, 28, 49, 27, 50, 13, 26, 41, 52, 41, 53, 48, 54],\n",
       "        [ 2,  3,  4,  5,  5,  7,  7,  8,  8,  9, 10, 10, 11, 13, 13, 14, 15, 15,\n",
       "         16, 17, 17, 18, 18, 19, 19, 20, 21, 21, 22, 25, 26, 26, 27, 27, 28, 28,\n",
       "         29, 29, 30, 30, 31, 31, 32, 32, 33, 33, 34, 34, 35, 35, 36, 36, 37, 37,\n",
       "         38, 38, 39, 39, 40, 40, 41, 41, 42, 42, 43, 43, 44, 44, 45, 46, 47, 47,\n",
       "         48, 48, 49, 49, 50, 50, 51, 51, 52, 52, 53, 53, 54, 54, 55, 55]])"
      ]
     },
     "execution_count": 7,
     "metadata": {},
     "output_type": "execute_result"
    }
   ],
   "source": [
    "g_star.edge_index"
   ]
  },
  {
   "cell_type": "code",
   "execution_count": null,
   "metadata": {},
   "outputs": [],
   "source": []
  },
  {
   "cell_type": "code",
   "execution_count": 18,
   "metadata": {},
   "outputs": [
    {
     "data": {
      "text/plain": [
       "48"
      ]
     },
     "execution_count": 18,
     "metadata": {},
     "output_type": "execute_result"
    }
   ],
   "source": [
    "len(g.x)"
   ]
  },
  {
   "cell_type": "code",
   "execution_count": 19,
   "metadata": {},
   "outputs": [],
   "source": [
    "# from converter import data_to_quantum_circuit\n",
    "\n",
    "g_qc = data_to_quantum_circuit(g, dataset.num_qubits, dataset.basic_gates)\n",
    "g_star_qc = data_to_quantum_circuit(g_star, dataset.num_qubits, dataset.basic_gates)"
   ]
  },
  {
   "cell_type": "code",
   "execution_count": 20,
   "metadata": {},
   "outputs": [
    {
     "data": {
      "text/html": [
       "<pre style=\"word-wrap: normal;white-space: pre;background: #fff0;line-height: 1.1;font-family: &quot;Courier New&quot;,Courier,monospace\">                       ┌───┐                                                »\n",
       "q_0: ─X─────────────■──┤ Z ├──────────────────────────────■─────────■───────»\n",
       "      │             │  └───┘                              │         │       »\n",
       "q_1: ─┼────────X────┼────■─────────■────────X─────────────┼────■────┼────■──»\n",
       "      │ ┌───┐  │    │  ┌─┴─┐       │        │             │    │  ┌─┴─┐  │  »\n",
       "q_2: ─┼─┤ T ├──┼────┼──┤ X ├───────┼────────┼───■─────────┼────┼──┤ X ├──┼──»\n",
       "      │ ├───┤  │    │  └───┘┌───┐  │  ┌───┐ │   │  ┌───┐  │    │  └───┘┌─┴─┐»\n",
       "q_3: ─┼─┤ X ├──┼────┼────■──┤ T ├──┼──┤ H ├─┼───┼──┤ H ├──┼────┼───────┤ X ├»\n",
       "      │ └───┘  │  ┌─┴─┐  │  └───┘┌─┴─┐└───┘ │ ┌─┴─┐└───┘┌─┴─┐  │       └───┘»\n",
       "q_4: ─┼────────┼──┤ X ├──┼───────┤ X ├──────┼─┤ X ├─────┤ X ├──┼────────────»\n",
       "      │        │  └───┘┌─┴─┐     └───┘      │ └───┘     └───┘┌─┴─┐          »\n",
       "q_5: ─┼───■────┼───────┤ X ├──X────X────────┼────────────────┤ X ├──────────»\n",
       "      │   │    │  ┌───┐└───┘  │    │        │                └───┘          »\n",
       "q_6: ─┼───┼────X──┤ T ├──X────┼────┼────────┼───────────────────────────────»\n",
       "      │ ┌─┴─┐     └───┘  │    │    │        │ ┌───┐                         »\n",
       "q_7: ─┼─┤ X ├────────────┼────┼────┼────────X─┤ S ├─────────────────────────»\n",
       "      │ └───┘┌───┐       │    │    │          └───┘                         »\n",
       "q_8: ─┼──────┤ X ├───────X────X────X────────────────────────────────────────»\n",
       "      │ ┌───┐├───┤                                                          »\n",
       "q_9: ─X─┤ X ├┤ Z ├──────────────────────────────────────────────────────────»\n",
       "        └───┘└───┘                                                          »\n",
       "«                                                                        \n",
       "«q_0: ──■─────────■───────■────■──────X───X──────────────■───────────────\n",
       "«       │         │       │    │      │   │              │               \n",
       "«q_1: ──┼─────────┼───X───┼────┼──────┼───┼──────────────┼───────■───────\n",
       "«       │  ┌───┐  │   │   │    │      │   │              │       │       \n",
       "«q_2: ──┼──┤ Z ├──┼───┼───┼────┼──────┼───┼──────────────┼───────┼───────\n",
       "«       │  ├───┤  │   │   │    │      │   │              │       │       \n",
       "«q_3: ──┼──┤ H ├──┼───X───┼────┼──────┼───X──────────────┼───────┼────■──\n",
       "«       │  └───┘  │     ┌─┴─┐  │      │                ┌─┴─┐     │    │  \n",
       "«q_4: ──┼─────────┼─────┤ X ├──┼───X──┼─────────────■──┤ X ├─────┼────┼──\n",
       "«       │         │     └───┘  │   │  │             │  └───┘     │  ┌─┴─┐\n",
       "«q_5: ──┼─────────┼────────────┼───┼──┼─────────────┼────────X───┼──┤ X ├\n",
       "«       │       ┌─┴─┐          │   │  │      ┌───┐  │  ┌───┐ │ ┌─┴─┐└───┘\n",
       "«q_6: ──┼───────┤ X ├──────────┼───X──┼───■──┤ X ├──┼──┤ H ├─┼─┤ X ├─────\n",
       "«       │       └───┘          │      │   │  └───┘┌─┴─┐└───┘ │ └───┘     \n",
       "«q_7: ──┼──────────────────────┼──────┼───┼────■──┤ X ├──X───┼───────────\n",
       "«       │                      │      │   │  ┌─┴─┐└───┘  │   │           \n",
       "«q_8: ──┼──────────────────────┼──────X───┼──┤ X ├──■────X───┼───────────\n",
       "«     ┌─┴─┐                  ┌─┴─┐      ┌─┴─┐└───┘┌─┴─┐      │           \n",
       "«q_9: ┤ X ├──────────────────┤ X ├──────┤ X ├─────┤ X ├──────X───────────\n",
       "«     └───┘                  └───┘      └───┘     └───┘                  </pre>"
      ],
      "text/plain": [
       "                       ┌───┐                                                »\n",
       "q_0: ─X─────────────■──┤ Z ├──────────────────────────────■─────────■───────»\n",
       "      │             │  └───┘                              │         │       »\n",
       "q_1: ─┼────────X────┼────■─────────■────────X─────────────┼────■────┼────■──»\n",
       "      │ ┌───┐  │    │  ┌─┴─┐       │        │             │    │  ┌─┴─┐  │  »\n",
       "q_2: ─┼─┤ T ├──┼────┼──┤ X ├───────┼────────┼───■─────────┼────┼──┤ X ├──┼──»\n",
       "      │ ├───┤  │    │  └───┘┌───┐  │  ┌───┐ │   │  ┌───┐  │    │  └───┘┌─┴─┐»\n",
       "q_3: ─┼─┤ X ├──┼────┼────■──┤ T ├──┼──┤ H ├─┼───┼──┤ H ├──┼────┼───────┤ X ├»\n",
       "      │ └───┘  │  ┌─┴─┐  │  └───┘┌─┴─┐└───┘ │ ┌─┴─┐└───┘┌─┴─┐  │       └───┘»\n",
       "q_4: ─┼────────┼──┤ X ├──┼───────┤ X ├──────┼─┤ X ├─────┤ X ├──┼────────────»\n",
       "      │        │  └───┘┌─┴─┐     └───┘      │ └───┘     └───┘┌─┴─┐          »\n",
       "q_5: ─┼───■────┼───────┤ X ├──X────X────────┼────────────────┤ X ├──────────»\n",
       "      │   │    │  ┌───┐└───┘  │    │        │                └───┘          »\n",
       "q_6: ─┼───┼────X──┤ T ├──X────┼────┼────────┼───────────────────────────────»\n",
       "      │ ┌─┴─┐     └───┘  │    │    │        │ ┌───┐                         »\n",
       "q_7: ─┼─┤ X ├────────────┼────┼────┼────────X─┤ S ├─────────────────────────»\n",
       "      │ └───┘┌───┐       │    │    │          └───┘                         »\n",
       "q_8: ─┼──────┤ X ├───────X────X────X────────────────────────────────────────»\n",
       "      │ ┌───┐├───┤                                                          »\n",
       "q_9: ─X─┤ X ├┤ Z ├──────────────────────────────────────────────────────────»\n",
       "        └───┘└───┘                                                          »\n",
       "«                                                                        \n",
       "«q_0: ──■─────────■───────■────■──────X───X──────────────■───────────────\n",
       "«       │         │       │    │      │   │              │               \n",
       "«q_1: ──┼─────────┼───X───┼────┼──────┼───┼──────────────┼───────■───────\n",
       "«       │  ┌───┐  │   │   │    │      │   │              │       │       \n",
       "«q_2: ──┼──┤ Z ├──┼───┼───┼────┼──────┼───┼──────────────┼───────┼───────\n",
       "«       │  ├───┤  │   │   │    │      │   │              │       │       \n",
       "«q_3: ──┼──┤ H ├──┼───X───┼────┼──────┼───X──────────────┼───────┼────■──\n",
       "«       │  └───┘  │     ┌─┴─┐  │      │                ┌─┴─┐     │    │  \n",
       "«q_4: ──┼─────────┼─────┤ X ├──┼───X──┼─────────────■──┤ X ├─────┼────┼──\n",
       "«       │         │     └───┘  │   │  │             │  └───┘     │  ┌─┴─┐\n",
       "«q_5: ──┼─────────┼────────────┼───┼──┼─────────────┼────────X───┼──┤ X ├\n",
       "«       │       ┌─┴─┐          │   │  │      ┌───┐  │  ┌───┐ │ ┌─┴─┐└───┘\n",
       "«q_6: ──┼───────┤ X ├──────────┼───X──┼───■──┤ X ├──┼──┤ H ├─┼─┤ X ├─────\n",
       "«       │       └───┘          │      │   │  └───┘┌─┴─┐└───┘ │ └───┘     \n",
       "«q_7: ──┼──────────────────────┼──────┼───┼────■──┤ X ├──X───┼───────────\n",
       "«       │                      │      │   │  ┌─┴─┐└───┘  │   │           \n",
       "«q_8: ──┼──────────────────────┼──────X───┼──┤ X ├──■────X───┼───────────\n",
       "«     ┌─┴─┐                  ┌─┴─┐      ┌─┴─┐└───┘┌─┴─┐      │           \n",
       "«q_9: ┤ X ├──────────────────┤ X ├──────┤ X ├─────┤ X ├──────X───────────\n",
       "«     └───┘                  └───┘      └───┘     └───┘                  "
      ]
     },
     "execution_count": 20,
     "metadata": {},
     "output_type": "execute_result"
    }
   ],
   "source": [
    "g_qc.draw()"
   ]
  },
  {
   "cell_type": "code",
   "execution_count": 21,
   "metadata": {},
   "outputs": [
    {
     "data": {
      "text/html": [
       "<pre style=\"word-wrap: normal;white-space: pre;background: #fff0;line-height: 1.1;font-family: &quot;Courier New&quot;,Courier,monospace\">     ┌───┐┌───┐                                                                »\n",
       "q_0: ┤ Z ├┤ X ├──X─────────────────X───────────────────────────────────────────»\n",
       "     ├───┤└───┘  │                 │                                           »\n",
       "q_1: ┤ T ├───────X─────────────────┼─────────X─────────────────────────────────»\n",
       "     ├───┤                         │         │                                 »\n",
       "q_2: ┤ T ├─────────────────────X───X─────────┼─────────────────────────────────»\n",
       "     ├───┤               ┌───┐ │      ┌───┐  │                                 »\n",
       "q_3: ┤ X ├────────────■──┤ T ├─┼───■──┤ H ├──X───────────────────────────────X─»\n",
       "     └───┘            │  └───┘ │   │  └───┘                                  │ »\n",
       "q_4: ──X─────────X────┼────X───X───┼────■────X───────────────────────────────┼─»\n",
       "       │         │  ┌─┴─┐  │     ┌─┴─┐  │    │                         ┌───┐ │ »\n",
       "q_5: ──X────X────X──┤ X ├──X─────┤ X ├──┼────X─────────■────────────■──┤ Z ├─X─»\n",
       "            │       └───┘        └───┘┌─┴─┐     ┌───┐  │            │  └───┘   »\n",
       "q_6: ───────┼─────────────────────────┤ X ├──■──┤ S ├──┼────────────┼──────────»\n",
       "            │                         └───┘┌─┴─┐└───┘┌─┴─┐        ┌─┴─┐        »\n",
       "q_7: ───────X────■─────────────────────────┤ X ├─────┤ X ├──■───X─┤ X ├────────»\n",
       "     ┌───┐       │                         └───┘     └───┘  │   │ └───┘        »\n",
       "q_8: ┤ X ├───────┼──────────────────────────────────────────┼───┼──────────────»\n",
       "     └───┘     ┌─┴─┐┌───┐                                 ┌─┴─┐ │              »\n",
       "q_9: ──────────┤ X ├┤ Z ├─────────────────────────────────┤ X ├─X──────────────»\n",
       "               └───┘└───┘                                 └───┘                »\n",
       "«                                                                            »\n",
       "«q_0: ───────────────────────────────────────────────────────────────────────»\n",
       "«                                                                            »\n",
       "«q_1: ───────────────────────────────────────────────────────────────────────»\n",
       "«                                                                            »\n",
       "«q_2: ───────────────────────────────────────────────────────X───────────────»\n",
       "«                                                            │               »\n",
       "«q_3: ───────────────────────────────────────────────────────┼───────────────»\n",
       "«                                                            │               »\n",
       "«q_4: ──────────────────────────────────────────────────■────X────X──────────»\n",
       "«                                                       │         │          »\n",
       "«q_5: ──■────────────────X───────────────────────X──────┼─────────┼──────────»\n",
       "«       │                │                       │    ┌─┴─┐       │          »\n",
       "«q_6: ──┼────────────────┼───────X───────────────┼──X─┤ X ├───────X──────────»\n",
       "«     ┌─┴─┐              │       │               │  │ └───┘                  »\n",
       "«q_7: ┤ X ├─X────────■───X───■───X───■───────■───X──┼───X──────────────────X─»\n",
       "«     └───┘ │        │       │       │       │      │   │                  │ »\n",
       "«q_8: ──────┼───■────┼───────┼───────┼───X───┼───X──X───┼────■─────────────┼─»\n",
       "«           │ ┌─┴─┐┌─┴─┐   ┌─┴─┐   ┌─┴─┐ │ ┌─┴─┐ │      │  ┌─┴─┐┌───┐┌───┐ │ »\n",
       "«q_9: ──────X─┤ X ├┤ X ├───┤ X ├───┤ X ├─X─┤ X ├─X──────X──┤ X ├┤ X ├┤ H ├─X─»\n",
       "«             └───┘└───┘   └───┘   └───┘   └───┘           └───┘└───┘└───┘   »\n",
       "«                    \n",
       "«q_0: ───────────────\n",
       "«                    \n",
       "«q_1: ────────────■──\n",
       "«                 │  \n",
       "«q_2: ────────────┼──\n",
       "«               ┌─┴─┐\n",
       "«q_3: ───────X──┤ X ├\n",
       "«            │  └───┘\n",
       "«q_4: ───────┼───────\n",
       "«            │       \n",
       "«q_5: ──X────X───────\n",
       "«       │            \n",
       "«q_6: ──┼────■───────\n",
       "«       │    │       \n",
       "«q_7: ──X────┼───────\n",
       "«          ┌─┴─┐     \n",
       "«q_8: ──■──┤ X ├─────\n",
       "«     ┌─┴─┐└───┘     \n",
       "«q_9: ┤ X ├──────────\n",
       "«     └───┘          </pre>"
      ],
      "text/plain": [
       "     ┌───┐┌───┐                                                                »\n",
       "q_0: ┤ Z ├┤ X ├──X─────────────────X───────────────────────────────────────────»\n",
       "     ├───┤└───┘  │                 │                                           »\n",
       "q_1: ┤ T ├───────X─────────────────┼─────────X─────────────────────────────────»\n",
       "     ├───┤                         │         │                                 »\n",
       "q_2: ┤ T ├─────────────────────X───X─────────┼─────────────────────────────────»\n",
       "     ├───┤               ┌───┐ │      ┌───┐  │                                 »\n",
       "q_3: ┤ X ├────────────■──┤ T ├─┼───■──┤ H ├──X───────────────────────────────X─»\n",
       "     └───┘            │  └───┘ │   │  └───┘                                  │ »\n",
       "q_4: ──X─────────X────┼────X───X───┼────■────X───────────────────────────────┼─»\n",
       "       │         │  ┌─┴─┐  │     ┌─┴─┐  │    │                         ┌───┐ │ »\n",
       "q_5: ──X────X────X──┤ X ├──X─────┤ X ├──┼────X─────────■────────────■──┤ Z ├─X─»\n",
       "            │       └───┘        └───┘┌─┴─┐     ┌───┐  │            │  └───┘   »\n",
       "q_6: ───────┼─────────────────────────┤ X ├──■──┤ S ├──┼────────────┼──────────»\n",
       "            │                         └───┘┌─┴─┐└───┘┌─┴─┐        ┌─┴─┐        »\n",
       "q_7: ───────X────■─────────────────────────┤ X ├─────┤ X ├──■───X─┤ X ├────────»\n",
       "     ┌───┐       │                         └───┘     └───┘  │   │ └───┘        »\n",
       "q_8: ┤ X ├───────┼──────────────────────────────────────────┼───┼──────────────»\n",
       "     └───┘     ┌─┴─┐┌───┐                                 ┌─┴─┐ │              »\n",
       "q_9: ──────────┤ X ├┤ Z ├─────────────────────────────────┤ X ├─X──────────────»\n",
       "               └───┘└───┘                                 └───┘                »\n",
       "«                                                                            »\n",
       "«q_0: ───────────────────────────────────────────────────────────────────────»\n",
       "«                                                                            »\n",
       "«q_1: ───────────────────────────────────────────────────────────────────────»\n",
       "«                                                                            »\n",
       "«q_2: ───────────────────────────────────────────────────────X───────────────»\n",
       "«                                                            │               »\n",
       "«q_3: ───────────────────────────────────────────────────────┼───────────────»\n",
       "«                                                            │               »\n",
       "«q_4: ──────────────────────────────────────────────────■────X────X──────────»\n",
       "«                                                       │         │          »\n",
       "«q_5: ──■────────────────X───────────────────────X──────┼─────────┼──────────»\n",
       "«       │                │                       │    ┌─┴─┐       │          »\n",
       "«q_6: ──┼────────────────┼───────X───────────────┼──X─┤ X ├───────X──────────»\n",
       "«     ┌─┴─┐              │       │               │  │ └───┘                  »\n",
       "«q_7: ┤ X ├─X────────■───X───■───X───■───────■───X──┼───X──────────────────X─»\n",
       "«     └───┘ │        │       │       │       │      │   │                  │ »\n",
       "«q_8: ──────┼───■────┼───────┼───────┼───X───┼───X──X───┼────■─────────────┼─»\n",
       "«           │ ┌─┴─┐┌─┴─┐   ┌─┴─┐   ┌─┴─┐ │ ┌─┴─┐ │      │  ┌─┴─┐┌───┐┌───┐ │ »\n",
       "«q_9: ──────X─┤ X ├┤ X ├───┤ X ├───┤ X ├─X─┤ X ├─X──────X──┤ X ├┤ X ├┤ H ├─X─»\n",
       "«             └───┘└───┘   └───┘   └───┘   └───┘           └───┘└───┘└───┘   »\n",
       "«                    \n",
       "«q_0: ───────────────\n",
       "«                    \n",
       "«q_1: ────────────■──\n",
       "«                 │  \n",
       "«q_2: ────────────┼──\n",
       "«               ┌─┴─┐\n",
       "«q_3: ───────X──┤ X ├\n",
       "«            │  └───┘\n",
       "«q_4: ───────┼───────\n",
       "«            │       \n",
       "«q_5: ──X────X───────\n",
       "«       │            \n",
       "«q_6: ──┼────■───────\n",
       "«       │    │       \n",
       "«q_7: ──X────┼───────\n",
       "«          ┌─┴─┐     \n",
       "«q_8: ──■──┤ X ├─────\n",
       "«     ┌─┴─┐└───┘     \n",
       "«q_9: ┤ X ├──────────\n",
       "«     └───┘          "
      ]
     },
     "execution_count": 21,
     "metadata": {},
     "output_type": "execute_result"
    }
   ],
   "source": [
    "g_star_qc.draw()"
   ]
  },
  {
   "cell_type": "code",
   "execution_count": 22,
   "metadata": {},
   "outputs": [
    {
     "data": {
      "text/plain": [
       "{'depth_ratio': 2.2, 'total_gate_ratio': 1.1667, 'two_qubit_ratio': 1.303}"
      ]
     },
     "execution_count": 22,
     "metadata": {},
     "output_type": "execute_result"
    }
   ],
   "source": [
    "sample['optimization_metrics']"
   ]
  },
  {
   "cell_type": "code",
   "execution_count": 23,
   "metadata": {},
   "outputs": [
    {
     "data": {
      "text/plain": [
       "{'base_idx': 0,\n",
       " 'topo_type': 2,\n",
       " 'layout_method': 0,\n",
       " 'routing_method': 0,\n",
       " 'optimization_level': 2}"
      ]
     },
     "execution_count": 23,
     "metadata": {},
     "output_type": "execute_result"
    }
   ],
   "source": [
    "sample['meta']"
   ]
  },
  {
   "cell_type": "code",
   "execution_count": 24,
   "metadata": {},
   "outputs": [],
   "source": [
    "origin_um = sample['quantum_origin']['unitary'].numpy()\n",
    "optimized_um = sample['quantum_optimized']['unitary'].numpy()"
   ]
  },
  {
   "cell_type": "code",
   "execution_count": 25,
   "metadata": {},
   "outputs": [
    {
     "data": {
      "text/plain": [
       "((1024, 1024), (1024, 1024))"
      ]
     },
     "execution_count": 25,
     "metadata": {},
     "output_type": "execute_result"
    }
   ],
   "source": [
    "optimized_um.shape, origin_um.shape"
   ]
  },
  {
   "cell_type": "markdown",
   "metadata": {},
   "source": [
    "## Visualize topo."
   ]
  },
  {
   "cell_type": "code",
   "execution_count": 26,
   "metadata": {},
   "outputs": [
    {
     "data": {
      "text/plain": [
       "Data(x=[10, 10], edge_index=[2, 26])"
      ]
     },
     "execution_count": 26,
     "metadata": {},
     "output_type": "execute_result"
    }
   ],
   "source": [
    "topo_data = sample['t']\n",
    "topo_data"
   ]
  },
  {
   "cell_type": "code",
   "execution_count": 27,
   "metadata": {},
   "outputs": [
    {
     "data": {
      "text/plain": [
       "(13, 10)"
      ]
     },
     "execution_count": 27,
     "metadata": {},
     "output_type": "execute_result"
    }
   ],
   "source": [
    "from torch_geometric.utils import to_networkx\n",
    "\n",
    "topo_g = to_networkx(topo_data, to_undirected=True)\n",
    "topo_g.number_of_edges(), topo_g.number_of_nodes()"
   ]
  },
  {
   "cell_type": "code",
   "execution_count": 28,
   "metadata": {},
   "outputs": [
    {
     "data": {
      "image/png": "[encoded data removed]",
      "text/plain": [
       "<Figure size 640x480 with 1 Axes>"
      ]
     },
     "metadata": {},
     "output_type": "display_data"
    }
   ],
   "source": [
    "import networkx as nx\n",
    "\n",
    "nx.draw(topo_g, node_size=50) # 2x5 grid"
   ]
  },
  {
   "cell_type": "markdown",
   "metadata": {},
   "source": [
    "## Statistic of the dataset."
   ]
  },
  {
   "cell_type": "code",
   "execution_count": 29,
   "metadata": {},
   "outputs": [],
   "source": [
    "\n",
    "from dataset_stats import extract_scalars_to_dataframe"
   ]
  },
  {
   "cell_type": "code",
   "execution_count": 30,
   "metadata": {},
   "outputs": [],
   "source": [
    "df = extract_scalars_to_dataframe(dataset)"
   ]
  },
  {
   "cell_type": "code",
   "execution_count": 31,
   "metadata": {},
   "outputs": [
    {
     "data": {
      "text/html": [
       "<div>\n",
       "<style scoped>\n",
       "    .dataframe tbody tr th:only-of-type {\n",
       "        vertical-align: middle;\n",
       "    }\n",
       "\n",
       "    .dataframe tbody tr th {\n",
       "        vertical-align: top;\n",
       "    }\n",
       "\n",
       "    .dataframe thead th {\n",
       "        text-align: right;\n",
       "    }\n",
       "</style>\n",
       "<table border=\"1\" class=\"dataframe\">\n",
       "  <thead>\n",
       "    <tr style=\"text-align: right;\">\n",
       "      <th></th>\n",
       "      <th>sample_idx</th>\n",
       "      <th>base_idx</th>\n",
       "      <th>topo_type</th>\n",
       "      <th>layout_method</th>\n",
       "      <th>routing_method</th>\n",
       "      <th>optimization_level</th>\n",
       "      <th>origin_num_qubits</th>\n",
       "      <th>origin_total_gates</th>\n",
       "      <th>origin_depth</th>\n",
       "      <th>origin_two_qubit_gates</th>\n",
       "      <th>opt_num_qubits</th>\n",
       "      <th>opt_total_gates</th>\n",
       "      <th>opt_depth</th>\n",
       "      <th>opt_two_qubit_gates</th>\n",
       "      <th>depth_ratio</th>\n",
       "      <th>total_gate_ratio</th>\n",
       "      <th>two_qubit_ratio</th>\n",
       "    </tr>\n",
       "  </thead>\n",
       "  <tbody>\n",
       "    <tr>\n",
       "      <th>0</th>\n",
       "      <td>0</td>\n",
       "      <td>0</td>\n",
       "      <td>grid</td>\n",
       "      <td>trivial</td>\n",
       "      <td>basic</td>\n",
       "      <td>1</td>\n",
       "      <td>10</td>\n",
       "      <td>48</td>\n",
       "      <td>15</td>\n",
       "      <td>33</td>\n",
       "      <td>10</td>\n",
       "      <td>100</td>\n",
       "      <td>70</td>\n",
       "      <td>87</td>\n",
       "      <td>4.6667</td>\n",
       "      <td>2.0833</td>\n",
       "      <td>2.6364</td>\n",
       "    </tr>\n",
       "    <tr>\n",
       "      <th>1</th>\n",
       "      <td>1</td>\n",
       "      <td>0</td>\n",
       "      <td>grid</td>\n",
       "      <td>trivial</td>\n",
       "      <td>basic</td>\n",
       "      <td>2</td>\n",
       "      <td>10</td>\n",
       "      <td>48</td>\n",
       "      <td>15</td>\n",
       "      <td>33</td>\n",
       "      <td>10</td>\n",
       "      <td>56</td>\n",
       "      <td>33</td>\n",
       "      <td>43</td>\n",
       "      <td>2.2000</td>\n",
       "      <td>1.1667</td>\n",
       "      <td>1.3030</td>\n",
       "    </tr>\n",
       "    <tr>\n",
       "      <th>2</th>\n",
       "      <td>2</td>\n",
       "      <td>0</td>\n",
       "      <td>grid</td>\n",
       "      <td>trivial</td>\n",
       "      <td>lookahead</td>\n",
       "      <td>1</td>\n",
       "      <td>10</td>\n",
       "      <td>48</td>\n",
       "      <td>15</td>\n",
       "      <td>33</td>\n",
       "      <td>10</td>\n",
       "      <td>74</td>\n",
       "      <td>42</td>\n",
       "      <td>61</td>\n",
       "      <td>2.8000</td>\n",
       "      <td>1.5417</td>\n",
       "      <td>1.8485</td>\n",
       "    </tr>\n",
       "    <tr>\n",
       "      <th>3</th>\n",
       "      <td>3</td>\n",
       "      <td>0</td>\n",
       "      <td>grid</td>\n",
       "      <td>trivial</td>\n",
       "      <td>lookahead</td>\n",
       "      <td>2</td>\n",
       "      <td>10</td>\n",
       "      <td>48</td>\n",
       "      <td>15</td>\n",
       "      <td>33</td>\n",
       "      <td>10</td>\n",
       "      <td>47</td>\n",
       "      <td>24</td>\n",
       "      <td>34</td>\n",
       "      <td>1.6000</td>\n",
       "      <td>0.9792</td>\n",
       "      <td>1.0303</td>\n",
       "    </tr>\n",
       "    <tr>\n",
       "      <th>4</th>\n",
       "      <td>4</td>\n",
       "      <td>0</td>\n",
       "      <td>grid</td>\n",
       "      <td>trivial</td>\n",
       "      <td>sabre</td>\n",
       "      <td>1</td>\n",
       "      <td>10</td>\n",
       "      <td>48</td>\n",
       "      <td>15</td>\n",
       "      <td>33</td>\n",
       "      <td>10</td>\n",
       "      <td>71</td>\n",
       "      <td>35</td>\n",
       "      <td>58</td>\n",
       "      <td>2.3333</td>\n",
       "      <td>1.4792</td>\n",
       "      <td>1.7576</td>\n",
       "    </tr>\n",
       "    <tr>\n",
       "      <th>...</th>\n",
       "      <td>...</td>\n",
       "      <td>...</td>\n",
       "      <td>...</td>\n",
       "      <td>...</td>\n",
       "      <td>...</td>\n",
       "      <td>...</td>\n",
       "      <td>...</td>\n",
       "      <td>...</td>\n",
       "      <td>...</td>\n",
       "      <td>...</td>\n",
       "      <td>...</td>\n",
       "      <td>...</td>\n",
       "      <td>...</td>\n",
       "      <td>...</td>\n",
       "      <td>...</td>\n",
       "      <td>...</td>\n",
       "      <td>...</td>\n",
       "    </tr>\n",
       "    <tr>\n",
       "      <th>185</th>\n",
       "      <td>185</td>\n",
       "      <td>4</td>\n",
       "      <td>random</td>\n",
       "      <td>sabre</td>\n",
       "      <td>lookahead</td>\n",
       "      <td>1</td>\n",
       "      <td>10</td>\n",
       "      <td>93</td>\n",
       "      <td>27</td>\n",
       "      <td>57</td>\n",
       "      <td>10</td>\n",
       "      <td>141</td>\n",
       "      <td>66</td>\n",
       "      <td>77</td>\n",
       "      <td>2.4444</td>\n",
       "      <td>1.5161</td>\n",
       "      <td>1.3509</td>\n",
       "    </tr>\n",
       "    <tr>\n",
       "      <th>186</th>\n",
       "      <td>186</td>\n",
       "      <td>4</td>\n",
       "      <td>random</td>\n",
       "      <td>sabre</td>\n",
       "      <td>lookahead</td>\n",
       "      <td>2</td>\n",
       "      <td>10</td>\n",
       "      <td>93</td>\n",
       "      <td>27</td>\n",
       "      <td>57</td>\n",
       "      <td>10</td>\n",
       "      <td>93</td>\n",
       "      <td>43</td>\n",
       "      <td>34</td>\n",
       "      <td>1.5926</td>\n",
       "      <td>1.0000</td>\n",
       "      <td>0.5965</td>\n",
       "    </tr>\n",
       "    <tr>\n",
       "      <th>187</th>\n",
       "      <td>187</td>\n",
       "      <td>4</td>\n",
       "      <td>random</td>\n",
       "      <td>sabre</td>\n",
       "      <td>sabre</td>\n",
       "      <td>0</td>\n",
       "      <td>10</td>\n",
       "      <td>93</td>\n",
       "      <td>27</td>\n",
       "      <td>57</td>\n",
       "      <td>10</td>\n",
       "      <td>135</td>\n",
       "      <td>64</td>\n",
       "      <td>71</td>\n",
       "      <td>2.3704</td>\n",
       "      <td>1.4516</td>\n",
       "      <td>1.2456</td>\n",
       "    </tr>\n",
       "    <tr>\n",
       "      <th>188</th>\n",
       "      <td>188</td>\n",
       "      <td>4</td>\n",
       "      <td>random</td>\n",
       "      <td>sabre</td>\n",
       "      <td>sabre</td>\n",
       "      <td>1</td>\n",
       "      <td>10</td>\n",
       "      <td>93</td>\n",
       "      <td>27</td>\n",
       "      <td>57</td>\n",
       "      <td>10</td>\n",
       "      <td>134</td>\n",
       "      <td>61</td>\n",
       "      <td>70</td>\n",
       "      <td>2.2593</td>\n",
       "      <td>1.4409</td>\n",
       "      <td>1.2281</td>\n",
       "    </tr>\n",
       "    <tr>\n",
       "      <th>189</th>\n",
       "      <td>189</td>\n",
       "      <td>4</td>\n",
       "      <td>random</td>\n",
       "      <td>sabre</td>\n",
       "      <td>sabre</td>\n",
       "      <td>2</td>\n",
       "      <td>10</td>\n",
       "      <td>93</td>\n",
       "      <td>27</td>\n",
       "      <td>57</td>\n",
       "      <td>10</td>\n",
       "      <td>94</td>\n",
       "      <td>48</td>\n",
       "      <td>35</td>\n",
       "      <td>1.7778</td>\n",
       "      <td>1.0108</td>\n",
       "      <td>0.6140</td>\n",
       "    </tr>\n",
       "  </tbody>\n",
       "</table>\n",
       "<p>190 rows × 17 columns</p>\n",
       "</div>"
      ],
      "text/plain": [
       "     sample_idx  base_idx topo_type layout_method routing_method  \\\n",
       "0             0         0      grid       trivial          basic   \n",
       "1             1         0      grid       trivial          basic   \n",
       "2             2         0      grid       trivial      lookahead   \n",
       "3             3         0      grid       trivial      lookahead   \n",
       "4             4         0      grid       trivial          sabre   \n",
       "..          ...       ...       ...           ...            ...   \n",
       "185         185         4    random         sabre      lookahead   \n",
       "186         186         4    random         sabre      lookahead   \n",
       "187         187         4    random         sabre          sabre   \n",
       "188         188         4    random         sabre          sabre   \n",
       "189         189         4    random         sabre          sabre   \n",
       "\n",
       "     optimization_level  origin_num_qubits  origin_total_gates  origin_depth  \\\n",
       "0                     1                 10                  48            15   \n",
       "1                     2                 10                  48            15   \n",
       "2                     1                 10                  48            15   \n",
       "3                     2                 10                  48            15   \n",
       "4                     1                 10                  48            15   \n",
       "..                  ...                ...                 ...           ...   \n",
       "185                   1                 10                  93            27   \n",
       "186                   2                 10                  93            27   \n",
       "187                   0                 10                  93            27   \n",
       "188                   1                 10                  93            27   \n",
       "189                   2                 10                  93            27   \n",
       "\n",
       "     origin_two_qubit_gates  opt_num_qubits  opt_total_gates  opt_depth  \\\n",
       "0                        33              10              100         70   \n",
       "1                        33              10               56         33   \n",
       "2                        33              10               74         42   \n",
       "3                        33              10               47         24   \n",
       "4                        33              10               71         35   \n",
       "..                      ...             ...              ...        ...   \n",
       "185                      57              10              141         66   \n",
       "186                      57              10               93         43   \n",
       "187                      57              10              135         64   \n",
       "188                      57              10              134         61   \n",
       "189                      57              10               94         48   \n",
       "\n",
       "     opt_two_qubit_gates  depth_ratio  total_gate_ratio  two_qubit_ratio  \n",
       "0                     87       4.6667            2.0833           2.6364  \n",
       "1                     43       2.2000            1.1667           1.3030  \n",
       "2                     61       2.8000            1.5417           1.8485  \n",
       "3                     34       1.6000            0.9792           1.0303  \n",
       "4                     58       2.3333            1.4792           1.7576  \n",
       "..                   ...          ...               ...              ...  \n",
       "185                   77       2.4444            1.5161           1.3509  \n",
       "186                   34       1.5926            1.0000           0.5965  \n",
       "187                   71       2.3704            1.4516           1.2456  \n",
       "188                   70       2.2593            1.4409           1.2281  \n",
       "189                   35       1.7778            1.0108           0.6140  \n",
       "\n",
       "[190 rows x 17 columns]"
      ]
     },
     "execution_count": 31,
     "metadata": {},
     "output_type": "execute_result"
    }
   ],
   "source": [
    "df"
   ]
  },
  {
   "cell_type": "code",
   "execution_count": 32,
   "metadata": {},
   "outputs": [],
   "source": [
    "import seaborn as sns\n",
    "import matplotlib.pyplot as plt\n"
   ]
  },
  {
   "cell_type": "code",
   "execution_count": 33,
   "metadata": {},
   "outputs": [
    {
     "data": {
      "text/plain": [
       "<Axes: xlabel='optimization_level', ylabel='depth_ratio'>"
      ]
     },
     "execution_count": 33,
     "metadata": {},
     "output_type": "execute_result"
    },
    {
     "data": {
      "image/png": "[encoded data removed]",
      "text/plain": [
       "<Figure size 640x480 with 1 Axes>"
      ]
     },
     "metadata": {},
     "output_type": "display_data"
    }
   ],
   "source": [
    "sns.barplot(df, x='optimization_level', y='depth_ratio', hue='routing_method')"
   ]
  },
  {
   "cell_type": "code",
   "execution_count": 34,
   "metadata": {},
   "outputs": [
    {
     "data": {
      "text/plain": [
       "<Axes: xlabel='optimization_level', ylabel='depth_ratio'>"
      ]
     },
     "execution_count": 34,
     "metadata": {},
     "output_type": "execute_result"
    },
    {
     "data": {
      "image/png": "[encoded data removed]",
      "text/plain": [
       "<Figure size 640x480 with 1 Axes>"
      ]
     },
     "metadata": {},
     "output_type": "display_data"
    }
   ],
   "source": [
    "sns.barplot(df, x='optimization_level', y='depth_ratio', hue='layout_method')\n"
   ]
  },
  {
   "cell_type": "code",
   "execution_count": 35,
   "metadata": {},
   "outputs": [
    {
     "data": {
      "text/plain": [
       "<Axes: xlabel='total_gate_ratio', ylabel='optimization_level'>"
      ]
     },
     "execution_count": 35,
     "metadata": {},
     "output_type": "execute_result"
    },
    {
     "data": {
      "image/png": "[encoded data removed]",
      "text/plain": [
       "<Figure size 640x480 with 1 Axes>"
      ]
     },
     "metadata": {},
     "output_type": "display_data"
    }
   ],
   "source": [
    "sns.barplot(df, x='total_gate_ratio', y='optimization_level', hue='routing_method', orient='h')\n"
   ]
  },
  {
   "cell_type": "code",
   "execution_count": 36,
   "metadata": {},
   "outputs": [
    {
     "data": {
      "text/plain": [
       "<Axes: xlabel='total_gate_ratio', ylabel='optimization_level'>"
      ]
     },
     "execution_count": 36,
     "metadata": {},
     "output_type": "execute_result"
    },
    {
     "data": {
      "image/png": "[encoded data removed]",
      "text/plain": [
       "<Figure size 640x480 with 1 Axes>"
      ]
     },
     "metadata": {},
     "output_type": "display_data"
    }
   ],
   "source": [
    "sns.barplot(df, x='total_gate_ratio', y='optimization_level', hue='layout_method', orient='h')\n"
   ]
  },
  {
   "cell_type": "code",
   "execution_count": 37,
   "metadata": {},
   "outputs": [
    {
     "data": {
      "text/plain": [
       "<Axes: xlabel='total_gate_ratio', ylabel='optimization_level'>"
      ]
     },
     "execution_count": 37,
     "metadata": {},
     "output_type": "execute_result"
    },
    {
     "data": {
      "image/png": "[encoded data removed]",
      "text/plain": [
       "<Figure size 640x480 with 1 Axes>"
      ]
     },
     "metadata": {},
     "output_type": "display_data"
    }
   ],
   "source": [
    "sns.barplot(df, x='total_gate_ratio', y='optimization_level', hue='topo_type', orient='h')\n"
   ]
  },
  {
   "cell_type": "code",
   "execution_count": 38,
   "metadata": {},
   "outputs": [
    {
     "data": {
      "text/plain": [
       "<Axes: xlabel='depth_ratio', ylabel='optimization_level'>"
      ]
     },
     "execution_count": 38,
     "metadata": {},
     "output_type": "execute_result"
    },
    {
     "data": {
      "image/png": "[encoded data removed]",
      "text/plain": [
       "<Figure size 640x480 with 1 Axes>"
      ]
     },
     "metadata": {},
     "output_type": "display_data"
    }
   ],
   "source": [
    "sns.barplot(df, x='depth_ratio', y='optimization_level', hue='topo_type', orient='h')\n"
   ]
  }
 ],
 "metadata": {
  "kernelspec": {
   "display_name": "Python 3",
   "language": "python",
   "name": "python3"
  },
  "language_info": {
   "codemirror_mode": {
    "name": "ipython",
    "version": 3
   },
   "file_extension": ".py",
   "mimetype": "text/x-python",
   "name": "python",
   "nbconvert_exporter": "python",
   "pygments_lexer": "ipython3",
   "version": "3.12.7"
  }
 },
 "nbformat": 4,
 "nbformat_minor": 2
}
