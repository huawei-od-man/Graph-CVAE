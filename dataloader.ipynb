{
 "cells": [
  {
   "cell_type": "code",
   "execution_count": null,
   "metadata": {},
   "outputs": [
    {
     "name": "stderr",
     "output_type": "stream",
     "text": [
      "/tmp/ipykernel_80937/1261347318.py:7: DeprecationWarning: Using Qiskit with Python 3.9 is deprecated as of the 2.1.0 release. Support for running Qiskit with Python 3.9 will be removed in the 2.3.0 release, which coincides with when Python 3.9 goes end of life.\n",
      "  from qiskit import QuantumCircuit, transpile\n"
     ]
    },
    {
     "ename": "ImportError",
     "evalue": "cannot import name 'CNOTGate' from 'qiskit.circuit.library' (/public/congfeng4/miniconda3/envs/py39/lib/python3.9/site-packages/qiskit/circuit/library/__init__.py)",
     "output_type": "error",
     "traceback": [
      "\u001b[0;31m---------------------------------------------------------------------------\u001b[0m",
      "\u001b[0;31mImportError\u001b[0m                               Traceback (most recent call last)",
      "Cell \u001b[0;32mIn[2], line 10\u001b[0m\n\u001b[1;32m      8\u001b[0m \u001b[38;5;28;01mfrom\u001b[39;00m\u001b[38;5;250m \u001b[39m\u001b[38;5;21;01mqiskit\u001b[39;00m\u001b[38;5;21;01m.\u001b[39;00m\u001b[38;5;21;01mtranspiler\u001b[39;00m\u001b[38;5;250m \u001b[39m\u001b[38;5;28;01mimport\u001b[39;00m CouplingMap\n\u001b[1;32m      9\u001b[0m \u001b[38;5;28;01mfrom\u001b[39;00m\u001b[38;5;250m \u001b[39m\u001b[38;5;21;01mqiskit\u001b[39;00m\u001b[38;5;21;01m.\u001b[39;00m\u001b[38;5;21;01mdagcircuit\u001b[39;00m\u001b[38;5;250m \u001b[39m\u001b[38;5;28;01mimport\u001b[39;00m DAGCircuit\n\u001b[0;32m---> 10\u001b[0m \u001b[38;5;28;01mfrom\u001b[39;00m\u001b[38;5;250m \u001b[39m\u001b[38;5;21;01mqiskit\u001b[39;00m\u001b[38;5;21;01m.\u001b[39;00m\u001b[38;5;21;01mcircuit\u001b[39;00m\u001b[38;5;21;01m.\u001b[39;00m\u001b[38;5;21;01mlibrary\u001b[39;00m\u001b[38;5;250m \u001b[39m\u001b[38;5;28;01mimport\u001b[39;00m HGate, XGate, CNOTGate, SWAPGate\n\u001b[1;32m     11\u001b[0m \u001b[38;5;28;01mfrom\u001b[39;00m\u001b[38;5;250m \u001b[39m\u001b[38;5;21;01mtqdm\u001b[39;00m\u001b[38;5;250m \u001b[39m\u001b[38;5;28;01mimport\u001b[39;00m trange\n\u001b[1;32m     14\u001b[0m \u001b[38;5;28;01mclass\u001b[39;00m\u001b[38;5;250m \u001b[39m\u001b[38;5;21;01mQuantumCircuitDataset\u001b[39;00m(Dataset):\n",
      "\u001b[0;31mImportError\u001b[0m: cannot import name 'CNOTGate' from 'qiskit.circuit.library' (/public/congfeng4/miniconda3/envs/py39/lib/python3.9/site-packages/qiskit/circuit/library/__init__.py)"
     ]
    }
   ],
   "source": []
  },
  {
   "cell_type": "code",
   "execution_count": null,
   "metadata": {},
   "outputs": [],
   "source": [
    "# 创建数据加载器\n",
    "dataloader = get_qc_gcvae_dataloader(\n",
    "    batch_size=8,\n",
    "    num_samples=500,\n",
    "    num_qubits=3,\n",
    "    max_depth=8,\n",
    "    topo_type=\"linear\",\n",
    "    regenerate=True  # 首次运行设为True生成数据\n",
    ")\n",
    "\n",
    "# 测试加载一个批次\n",
    "for batch in dataloader:\n",
    "    print(\"批次数据结构:\")\n",
    "    print(f\"优化前电路: {batch['g']}\")\n",
    "    print(f\"优化后电路: {batch['g_star']}\")\n",
    "    print(f\"物理拓扑: {batch['t']}\")\n",
    "\n",
    "    # 打印第一个样本的基本信息\n",
    "    first_g = batch['g'][0]\n",
    "    first_g_star = batch['g_star'][0]\n",
    "    first_t = batch['t'][0]\n",
    "\n",
    "    print(\"\\n第一个样本详情:\")\n",
    "    print(f\"优化前电路 - 节点数: {first_g.x.size(0)}, 边数: {first_g.edge_index.size(1)}\")\n",
    "    print(f\"优化后电路 - 节点数: {first_g_star.x.size(0)}, 边数: {first_g_star.edge_index.size(1)}\")\n",
    "    print(f\"物理拓扑 - 节点数: {first_t.x.size(0)}, 边数: {first_t.edge_index.size(1)}\")\n",
    "\n",
    "    break  # 只测试一个批次\n"
   ]
  }
 ],
 "metadata": {
  "kernelspec": {
   "display_name": "py39",
   "language": "python",
   "name": "python3"
  },
  "language_info": {
   "codemirror_mode": {
    "name": "ipython",
    "version": 3
   },
   "file_extension": ".py",
   "mimetype": "text/x-python",
   "name": "python",
   "nbconvert_exporter": "python",
   "pygments_lexer": "ipython3",
   "version": "3.9.23"
  }
 },
 "nbformat": 4,
 "nbformat_minor": 2
}
