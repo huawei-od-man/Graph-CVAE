{
 "cells": [
  {
   "cell_type": "code",
   "execution_count": 3,
   "metadata": {},
   "outputs": [
    {
     "name": "stdout",
     "output_type": "stream",
     "text": [
      "1比特电路的密度矩阵：\n",
      "[[0.5+0.j 0.5+0.j]\n",
      " [0.5+0.j 0.5+0.j]]\n",
      "\n",
      "2比特纠缠态的密度矩阵（前2行前2列）：\n",
      "[[0.5+0.j 0. +0.j 0. +0.j 0.5+0.j]\n",
      " [0. +0.j 0. +0.j 0. +0.j 0. +0.j]\n",
      " [0. +0.j 0. +0.j 0. +0.j 0. +0.j]\n",
      " [0.5+0.j 0. +0.j 0. +0.j 0.5+0.j]]\n"
     ]
    }
   ],
   "source": [
    "from qiskit import QuantumCircuit\n",
    "from qiskit.quantum_info import DensityMatrix\n",
    "\n",
    "# 1. 创建量子电路（示例：1比特H门+X门，2比特CX门）\n",
    "qc1 = QuantumCircuit(1)\n",
    "qc1.h(0)  # 1比特叠加态电路\n",
    "qc2 = QuantumCircuit(2)\n",
    "qc2.h(0)\n",
    "qc2.cx(0, 1)  # 2比特纠缠态电路\n",
    "\n",
    "# 2. 计算密度矩阵（直接传入电路）\n",
    "rho1 = DensityMatrix(qc1)  # 1比特密度矩阵（2×2）\n",
    "rho2 = DensityMatrix(qc2)  # 2比特密度矩阵（4×4）\n",
    "\n",
    "# 3. 查看结果（可输出矩阵形式或简化信息）\n",
    "print(\"1比特电路的密度矩阵：\")\n",
    "print(rho1.data)  # 输出复数矩阵（numpy数组）\n",
    "print(\"\\n2比特纠缠态的密度矩阵（前2行前2列）：\")\n",
    "print(rho2.data)  # 简化输出（4×4矩阵较大）"
   ]
  },
  {
   "cell_type": "code",
   "execution_count": 4,
   "metadata": {},
   "outputs": [],
   "source": [
    "from dataloader import get_qc_cvae_dataloader"
   ]
  },
  {
   "cell_type": "code",
   "execution_count": 5,
   "metadata": {},
   "outputs": [
    {
     "name": "stdout",
     "output_type": "stream",
     "text": [
      "Transpile参数组合数：19\n",
      "\n",
      "数据加载器创建完成，批次总数：57\n"
     ]
    }
   ],
   "source": [
    "# 测试配置：小样本量+少拓扑类型，快速验证\n",
    "test_config = {\n",
    "    \"batch_size\": 2,\n",
    "    \"base_num_samples\": 3,\n",
    "    \"num_qubits\": 4,\n",
    "    \"max_depth\": 8,\n",
    "    \"topo_types\": [\"star\", \"ring\"],  # 测试已修复的 star 和新增的 ring 拓扑\n",
    "    \"basic_gates\": ['h', 'x', 'cx', 'swap'],\n",
    "    \"regenerate\": False,  # 首次运行设为 True 生成样本\n",
    "    \"shuffle\": False\n",
    "}\n",
    "\n",
    "# 创建数据加载器\n",
    "dataloader = get_qc_cvae_dataloader(**test_config)\n",
    "print(f\"\\n数据加载器创建完成，批次总数：{len(dataloader)}\")"
   ]
  },
  {
   "cell_type": "code",
   "execution_count": 6,
   "metadata": {},
   "outputs": [],
   "source": [
    "data = next(iter(dataloader))"
   ]
  },
  {
   "cell_type": "code",
   "execution_count": 7,
   "metadata": {},
   "outputs": [
    {
     "data": {
      "text/plain": [
       "dict_keys(['g', 't', 'g_star', 'quantum_origin', 'quantum_optimized', 'optimization_metrics', 'circuit_origin_info', 'circuit_optimized_info', 'meta'])"
      ]
     },
     "execution_count": 7,
     "metadata": {},
     "output_type": "execute_result"
    }
   ],
   "source": [
    "data.keys()"
   ]
  },
  {
   "cell_type": "code",
   "execution_count": 8,
   "metadata": {},
   "outputs": [
    {
     "data": {
      "text/plain": [
       "DataBatch(x=[2, 8], edge_index=[0], batch=[2], ptr=[3])"
      ]
     },
     "execution_count": 8,
     "metadata": {},
     "output_type": "execute_result"
    }
   ],
   "source": [
    "g = data['g']\n",
    "g"
   ]
  },
  {
   "cell_type": "code",
   "execution_count": 9,
   "metadata": {},
   "outputs": [
    {
     "data": {
      "text/plain": [
       "2"
      ]
     },
     "execution_count": 9,
     "metadata": {},
     "output_type": "execute_result"
    }
   ],
   "source": [
    "g.num_graphs"
   ]
  },
  {
   "cell_type": "code",
   "execution_count": 10,
   "metadata": {},
   "outputs": [
    {
     "data": {
      "text/plain": [
       "8"
      ]
     },
     "execution_count": 10,
     "metadata": {},
     "output_type": "execute_result"
    }
   ],
   "source": [
    "g.num_node_features"
   ]
  },
  {
   "cell_type": "code",
   "execution_count": 11,
   "metadata": {},
   "outputs": [
    {
     "data": {
      "text/plain": [
       "torch.Size([2, 8])"
      ]
     },
     "execution_count": 11,
     "metadata": {},
     "output_type": "execute_result"
    }
   ],
   "source": [
    "g.x.shape"
   ]
  },
  {
   "cell_type": "code",
   "execution_count": 12,
   "metadata": {},
   "outputs": [
    {
     "data": {
      "text/plain": [
       "tensor([], dtype=torch.int64)"
      ]
     },
     "execution_count": 12,
     "metadata": {},
     "output_type": "execute_result"
    }
   ],
   "source": [
    "g.edge_index"
   ]
  },
  {
   "cell_type": "code",
   "execution_count": 13,
   "metadata": {},
   "outputs": [],
   "source": [
    "circuit_origin_info = data['circuit_origin_info']"
   ]
  },
  {
   "cell_type": "code",
   "execution_count": 14,
   "metadata": {},
   "outputs": [
    {
     "data": {
      "text/plain": [
       "{'num_qubits': tensor([4, 4]),\n",
       " 'total_gates': tensor([1, 1]),\n",
       " 'depth': tensor([1, 1]),\n",
       " 'two_qubit_gates': tensor([0, 0])}"
      ]
     },
     "execution_count": 14,
     "metadata": {},
     "output_type": "execute_result"
    }
   ],
   "source": [
    "circuit_origin_info"
   ]
  },
  {
   "cell_type": "code",
   "execution_count": 24,
   "metadata": {},
   "outputs": [
    {
     "data": {
      "text/plain": [
       "{'num_qubits': tensor([4, 4]),\n",
       " 'total_gates': tensor([1, 1]),\n",
       " 'depth': tensor([1, 1]),\n",
       " 'two_qubit_gates': tensor([0, 0])}"
      ]
     },
     "execution_count": 24,
     "metadata": {},
     "output_type": "execute_result"
    }
   ],
   "source": [
    "data['circuit_optimized_info']"
   ]
  },
  {
   "cell_type": "code",
   "execution_count": 26,
   "metadata": {},
   "outputs": [
    {
     "data": {
      "text/plain": [
       "{'statevector': tensor([[0.7071+0.j, 0.0000+0.j, 0.0000+0.j, 0.0000+0.j, 0.0000+0.j, 0.0000+0.j, 0.0000+0.j,\n",
       "          0.0000+0.j, 0.7071+0.j, 0.0000+0.j, 0.0000+0.j, 0.0000+0.j, 0.0000+0.j, 0.0000+0.j,\n",
       "          0.0000+0.j, 0.0000+0.j],\n",
       "         [0.7071+0.j, 0.0000+0.j, 0.0000+0.j, 0.0000+0.j, 0.0000+0.j, 0.0000+0.j, 0.0000+0.j,\n",
       "          0.0000+0.j, 0.7071+0.j, 0.0000+0.j, 0.0000+0.j, 0.0000+0.j, 0.0000+0.j, 0.0000+0.j,\n",
       "          0.0000+0.j, 0.0000+0.j]]),\n",
       " 'unitary': tensor([[[ 0.7071+0.j,  0.0000+0.j,  0.0000+0.j,  0.0000+0.j,  0.0000+0.j,  0.0000+0.j,\n",
       "            0.0000+0.j,  0.0000+0.j,  0.7071+0.j,  0.0000+0.j,  0.0000+0.j,  0.0000+0.j,\n",
       "            0.0000+0.j,  0.0000+0.j,  0.0000+0.j,  0.0000+0.j],\n",
       "          [ 0.0000+0.j,  0.7071+0.j,  0.0000+0.j,  0.0000+0.j,  0.0000+0.j,  0.0000+0.j,\n",
       "            0.0000+0.j,  0.0000+0.j,  0.0000+0.j,  0.7071+0.j,  0.0000+0.j,  0.0000+0.j,\n",
       "            0.0000+0.j,  0.0000+0.j,  0.0000+0.j,  0.0000+0.j],\n",
       "          [ 0.0000+0.j,  0.0000+0.j,  0.7071+0.j,  0.0000+0.j,  0.0000+0.j,  0.0000+0.j,\n",
       "            0.0000+0.j,  0.0000+0.j,  0.0000+0.j,  0.0000+0.j,  0.7071+0.j,  0.0000+0.j,\n",
       "            0.0000+0.j,  0.0000+0.j,  0.0000+0.j,  0.0000+0.j],\n",
       "          [ 0.0000+0.j,  0.0000+0.j,  0.0000+0.j,  0.7071+0.j,  0.0000+0.j,  0.0000+0.j,\n",
       "            0.0000+0.j,  0.0000+0.j,  0.0000+0.j,  0.0000+0.j,  0.0000+0.j,  0.7071+0.j,\n",
       "            0.0000+0.j,  0.0000+0.j,  0.0000+0.j,  0.0000+0.j],\n",
       "          [ 0.0000+0.j,  0.0000+0.j,  0.0000+0.j,  0.0000+0.j,  0.7071+0.j,  0.0000+0.j,\n",
       "            0.0000+0.j,  0.0000+0.j,  0.0000+0.j,  0.0000+0.j,  0.0000+0.j,  0.0000+0.j,\n",
       "            0.7071+0.j,  0.0000+0.j,  0.0000+0.j,  0.0000+0.j],\n",
       "          [ 0.0000+0.j,  0.0000+0.j,  0.0000+0.j,  0.0000+0.j,  0.0000+0.j,  0.7071+0.j,\n",
       "            0.0000+0.j,  0.0000+0.j,  0.0000+0.j,  0.0000+0.j,  0.0000+0.j,  0.0000+0.j,\n",
       "            0.0000+0.j,  0.7071+0.j,  0.0000+0.j,  0.0000+0.j],\n",
       "          [ 0.0000+0.j,  0.0000+0.j,  0.0000+0.j,  0.0000+0.j,  0.0000+0.j,  0.0000+0.j,\n",
       "            0.7071+0.j,  0.0000+0.j,  0.0000+0.j,  0.0000+0.j,  0.0000+0.j,  0.0000+0.j,\n",
       "            0.0000+0.j,  0.0000+0.j,  0.7071+0.j,  0.0000+0.j],\n",
       "          [ 0.0000+0.j,  0.0000+0.j,  0.0000+0.j,  0.0000+0.j,  0.0000+0.j,  0.0000+0.j,\n",
       "            0.0000+0.j,  0.7071+0.j,  0.0000+0.j,  0.0000+0.j,  0.0000+0.j,  0.0000+0.j,\n",
       "            0.0000+0.j,  0.0000+0.j,  0.0000+0.j,  0.7071+0.j],\n",
       "          [ 0.7071+0.j,  0.0000+0.j,  0.0000+0.j,  0.0000+0.j,  0.0000+0.j,  0.0000+0.j,\n",
       "            0.0000+0.j,  0.0000+0.j, -0.7071+0.j,  0.0000+0.j,  0.0000+0.j,  0.0000+0.j,\n",
       "            0.0000+0.j,  0.0000+0.j,  0.0000+0.j,  0.0000+0.j],\n",
       "          [ 0.0000+0.j,  0.7071+0.j,  0.0000+0.j,  0.0000+0.j,  0.0000+0.j,  0.0000+0.j,\n",
       "            0.0000+0.j,  0.0000+0.j,  0.0000+0.j, -0.7071+0.j,  0.0000+0.j,  0.0000+0.j,\n",
       "            0.0000+0.j,  0.0000+0.j,  0.0000+0.j,  0.0000+0.j],\n",
       "          [ 0.0000+0.j,  0.0000+0.j,  0.7071+0.j,  0.0000+0.j,  0.0000+0.j,  0.0000+0.j,\n",
       "            0.0000+0.j,  0.0000+0.j,  0.0000+0.j,  0.0000+0.j, -0.7071+0.j,  0.0000+0.j,\n",
       "            0.0000+0.j,  0.0000+0.j,  0.0000+0.j,  0.0000+0.j],\n",
       "          [ 0.0000+0.j,  0.0000+0.j,  0.0000+0.j,  0.7071+0.j,  0.0000+0.j,  0.0000+0.j,\n",
       "            0.0000+0.j,  0.0000+0.j,  0.0000+0.j,  0.0000+0.j,  0.0000+0.j, -0.7071+0.j,\n",
       "            0.0000+0.j,  0.0000+0.j,  0.0000+0.j,  0.0000+0.j],\n",
       "          [ 0.0000+0.j,  0.0000+0.j,  0.0000+0.j,  0.0000+0.j,  0.7071+0.j,  0.0000+0.j,\n",
       "            0.0000+0.j,  0.0000+0.j,  0.0000+0.j,  0.0000+0.j,  0.0000+0.j,  0.0000+0.j,\n",
       "           -0.7071+0.j,  0.0000+0.j,  0.0000+0.j,  0.0000+0.j],\n",
       "          [ 0.0000+0.j,  0.0000+0.j,  0.0000+0.j,  0.0000+0.j,  0.0000+0.j,  0.7071+0.j,\n",
       "            0.0000+0.j,  0.0000+0.j,  0.0000+0.j,  0.0000+0.j,  0.0000+0.j,  0.0000+0.j,\n",
       "            0.0000+0.j, -0.7071+0.j,  0.0000+0.j,  0.0000+0.j],\n",
       "          [ 0.0000+0.j,  0.0000+0.j,  0.0000+0.j,  0.0000+0.j,  0.0000+0.j,  0.0000+0.j,\n",
       "            0.7071+0.j,  0.0000+0.j,  0.0000+0.j,  0.0000+0.j,  0.0000+0.j,  0.0000+0.j,\n",
       "            0.0000+0.j,  0.0000+0.j, -0.7071+0.j,  0.0000+0.j],\n",
       "          [ 0.0000+0.j,  0.0000+0.j,  0.0000+0.j,  0.0000+0.j,  0.0000+0.j,  0.0000+0.j,\n",
       "            0.0000+0.j,  0.7071+0.j,  0.0000+0.j,  0.0000+0.j,  0.0000+0.j,  0.0000+0.j,\n",
       "            0.0000+0.j,  0.0000+0.j,  0.0000+0.j, -0.7071+0.j]],\n",
       " \n",
       "         [[ 0.7071+0.j,  0.0000+0.j,  0.0000+0.j,  0.0000+0.j,  0.0000+0.j,  0.0000+0.j,\n",
       "            0.0000+0.j,  0.0000+0.j,  0.7071+0.j,  0.0000+0.j,  0.0000+0.j,  0.0000+0.j,\n",
       "            0.0000+0.j,  0.0000+0.j,  0.0000+0.j,  0.0000+0.j],\n",
       "          [ 0.0000+0.j,  0.7071+0.j,  0.0000+0.j,  0.0000+0.j,  0.0000+0.j,  0.0000+0.j,\n",
       "            0.0000+0.j,  0.0000+0.j,  0.0000+0.j,  0.7071+0.j,  0.0000+0.j,  0.0000+0.j,\n",
       "            0.0000+0.j,  0.0000+0.j,  0.0000+0.j,  0.0000+0.j],\n",
       "          [ 0.0000+0.j,  0.0000+0.j,  0.7071+0.j,  0.0000+0.j,  0.0000+0.j,  0.0000+0.j,\n",
       "            0.0000+0.j,  0.0000+0.j,  0.0000+0.j,  0.0000+0.j,  0.7071+0.j,  0.0000+0.j,\n",
       "            0.0000+0.j,  0.0000+0.j,  0.0000+0.j,  0.0000+0.j],\n",
       "          [ 0.0000+0.j,  0.0000+0.j,  0.0000+0.j,  0.7071+0.j,  0.0000+0.j,  0.0000+0.j,\n",
       "            0.0000+0.j,  0.0000+0.j,  0.0000+0.j,  0.0000+0.j,  0.0000+0.j,  0.7071+0.j,\n",
       "            0.0000+0.j,  0.0000+0.j,  0.0000+0.j,  0.0000+0.j],\n",
       "          [ 0.0000+0.j,  0.0000+0.j,  0.0000+0.j,  0.0000+0.j,  0.7071+0.j,  0.0000+0.j,\n",
       "            0.0000+0.j,  0.0000+0.j,  0.0000+0.j,  0.0000+0.j,  0.0000+0.j,  0.0000+0.j,\n",
       "            0.7071+0.j,  0.0000+0.j,  0.0000+0.j,  0.0000+0.j],\n",
       "          [ 0.0000+0.j,  0.0000+0.j,  0.0000+0.j,  0.0000+0.j,  0.0000+0.j,  0.7071+0.j,\n",
       "            0.0000+0.j,  0.0000+0.j,  0.0000+0.j,  0.0000+0.j,  0.0000+0.j,  0.0000+0.j,\n",
       "            0.0000+0.j,  0.7071+0.j,  0.0000+0.j,  0.0000+0.j],\n",
       "          [ 0.0000+0.j,  0.0000+0.j,  0.0000+0.j,  0.0000+0.j,  0.0000+0.j,  0.0000+0.j,\n",
       "            0.7071+0.j,  0.0000+0.j,  0.0000+0.j,  0.0000+0.j,  0.0000+0.j,  0.0000+0.j,\n",
       "            0.0000+0.j,  0.0000+0.j,  0.7071+0.j,  0.0000+0.j],\n",
       "          [ 0.0000+0.j,  0.0000+0.j,  0.0000+0.j,  0.0000+0.j,  0.0000+0.j,  0.0000+0.j,\n",
       "            0.0000+0.j,  0.7071+0.j,  0.0000+0.j,  0.0000+0.j,  0.0000+0.j,  0.0000+0.j,\n",
       "            0.0000+0.j,  0.0000+0.j,  0.0000+0.j,  0.7071+0.j],\n",
       "          [ 0.7071+0.j,  0.0000+0.j,  0.0000+0.j,  0.0000+0.j,  0.0000+0.j,  0.0000+0.j,\n",
       "            0.0000+0.j,  0.0000+0.j, -0.7071+0.j,  0.0000+0.j,  0.0000+0.j,  0.0000+0.j,\n",
       "            0.0000+0.j,  0.0000+0.j,  0.0000+0.j,  0.0000+0.j],\n",
       "          [ 0.0000+0.j,  0.7071+0.j,  0.0000+0.j,  0.0000+0.j,  0.0000+0.j,  0.0000+0.j,\n",
       "            0.0000+0.j,  0.0000+0.j,  0.0000+0.j, -0.7071+0.j,  0.0000+0.j,  0.0000+0.j,\n",
       "            0.0000+0.j,  0.0000+0.j,  0.0000+0.j,  0.0000+0.j],\n",
       "          [ 0.0000+0.j,  0.0000+0.j,  0.7071+0.j,  0.0000+0.j,  0.0000+0.j,  0.0000+0.j,\n",
       "            0.0000+0.j,  0.0000+0.j,  0.0000+0.j,  0.0000+0.j, -0.7071+0.j,  0.0000+0.j,\n",
       "            0.0000+0.j,  0.0000+0.j,  0.0000+0.j,  0.0000+0.j],\n",
       "          [ 0.0000+0.j,  0.0000+0.j,  0.0000+0.j,  0.7071+0.j,  0.0000+0.j,  0.0000+0.j,\n",
       "            0.0000+0.j,  0.0000+0.j,  0.0000+0.j,  0.0000+0.j,  0.0000+0.j, -0.7071+0.j,\n",
       "            0.0000+0.j,  0.0000+0.j,  0.0000+0.j,  0.0000+0.j],\n",
       "          [ 0.0000+0.j,  0.0000+0.j,  0.0000+0.j,  0.0000+0.j,  0.7071+0.j,  0.0000+0.j,\n",
       "            0.0000+0.j,  0.0000+0.j,  0.0000+0.j,  0.0000+0.j,  0.0000+0.j,  0.0000+0.j,\n",
       "           -0.7071+0.j,  0.0000+0.j,  0.0000+0.j,  0.0000+0.j],\n",
       "          [ 0.0000+0.j,  0.0000+0.j,  0.0000+0.j,  0.0000+0.j,  0.0000+0.j,  0.7071+0.j,\n",
       "            0.0000+0.j,  0.0000+0.j,  0.0000+0.j,  0.0000+0.j,  0.0000+0.j,  0.0000+0.j,\n",
       "            0.0000+0.j, -0.7071+0.j,  0.0000+0.j,  0.0000+0.j],\n",
       "          [ 0.0000+0.j,  0.0000+0.j,  0.0000+0.j,  0.0000+0.j,  0.0000+0.j,  0.0000+0.j,\n",
       "            0.7071+0.j,  0.0000+0.j,  0.0000+0.j,  0.0000+0.j,  0.0000+0.j,  0.0000+0.j,\n",
       "            0.0000+0.j,  0.0000+0.j, -0.7071+0.j,  0.0000+0.j],\n",
       "          [ 0.0000+0.j,  0.0000+0.j,  0.0000+0.j,  0.0000+0.j,  0.0000+0.j,  0.0000+0.j,\n",
       "            0.0000+0.j,  0.7071+0.j,  0.0000+0.j,  0.0000+0.j,  0.0000+0.j,  0.0000+0.j,\n",
       "            0.0000+0.j,  0.0000+0.j,  0.0000+0.j, -0.7071+0.j]]])}"
      ]
     },
     "execution_count": 26,
     "metadata": {},
     "output_type": "execute_result"
    }
   ],
   "source": [
    "data['quantum_optimized']"
   ]
  },
  {
   "cell_type": "code",
   "execution_count": 25,
   "metadata": {},
   "outputs": [
    {
     "data": {
      "text/plain": [
       "{'fidelity': tensor([1., 1.]),\n",
       " 'depth_ratio': tensor([1., 1.]),\n",
       " 'total_gate_ratio': tensor([1., 1.]),\n",
       " 'two_qubit_ratio': tensor([nan, nan])}"
      ]
     },
     "execution_count": 25,
     "metadata": {},
     "output_type": "execute_result"
    }
   ],
   "source": [
    "data['optimization_metrics']"
   ]
  },
  {
   "cell_type": "code",
   "execution_count": 15,
   "metadata": {},
   "outputs": [],
   "source": [
    "from dataloader import data_to_quantum_circuit"
   ]
  },
  {
   "cell_type": "code",
   "execution_count": 20,
   "metadata": {},
   "outputs": [],
   "source": [
    "qc = data_to_quantum_circuit(g[0], num_qubits=4, gate_types=['h', 'x', 'cx', 'swap'])"
   ]
  },
  {
   "cell_type": "code",
   "execution_count": 22,
   "metadata": {},
   "outputs": [
    {
     "data": {
      "text/html": [
       "<pre style=\"word-wrap: normal;white-space: pre;background: #fff0;line-height: 1.1;font-family: &quot;Courier New&quot;,Courier,monospace\">          \n",
       "q_0: ─────\n",
       "          \n",
       "q_1: ─────\n",
       "          \n",
       "q_2: ─────\n",
       "     ┌───┐\n",
       "q_3: ┤ H ├\n",
       "     └───┘</pre>"
      ],
      "text/plain": [
       "          \n",
       "q_0: ─────\n",
       "          \n",
       "q_1: ─────\n",
       "          \n",
       "q_2: ─────\n",
       "     ┌───┐\n",
       "q_3: ┤ H ├\n",
       "     └───┘"
      ]
     },
     "execution_count": 22,
     "metadata": {},
     "output_type": "execute_result"
    }
   ],
   "source": [
    "qc.draw()"
   ]
  },
  {
   "cell_type": "code",
   "execution_count": 23,
   "metadata": {},
   "outputs": [
    {
     "data": {
      "text/html": [
       "<pre style=\"word-wrap: normal;white-space: pre;background: #fff0;line-height: 1.1;font-family: &quot;Courier New&quot;,Courier,monospace\">          \n",
       "q_0: ─────\n",
       "          \n",
       "q_1: ─────\n",
       "          \n",
       "q_2: ─────\n",
       "     ┌───┐\n",
       "q_3: ┤ H ├\n",
       "     └───┘</pre>"
      ],
      "text/plain": [
       "          \n",
       "q_0: ─────\n",
       "          \n",
       "q_1: ─────\n",
       "          \n",
       "q_2: ─────\n",
       "     ┌───┐\n",
       "q_3: ┤ H ├\n",
       "     └───┘"
      ]
     },
     "execution_count": 23,
     "metadata": {},
     "output_type": "execute_result"
    }
   ],
   "source": [
    "qco = data_to_quantum_circuit(data['g_star'][0],\n",
    "                               num_qubits=4, gate_types=['h', 'x', 'cx', 'swap'])\n",
    "qco.draw()"
   ]
  }
 ],
 "metadata": {
  "kernelspec": {
   "display_name": "Python 3",
   "language": "python",
   "name": "python3"
  },
  "language_info": {
   "codemirror_mode": {
    "name": "ipython",
    "version": 3
   },
   "file_extension": ".py",
   "mimetype": "text/x-python",
   "name": "python",
   "nbconvert_exporter": "python",
   "pygments_lexer": "ipython3",
   "version": "3.12.7"
  }
 },
 "nbformat": 4,
 "nbformat_minor": 2
}
